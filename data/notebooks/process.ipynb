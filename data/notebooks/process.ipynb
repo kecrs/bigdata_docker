{
 "cells": [
  {
   "cell_type": "code",
   "execution_count": 245,
   "metadata": {},
   "outputs": [],
   "source": [
    "from pyspark.sql import SparkSession, dataframe, Row\n",
    "from pyspark.sql.types import StructType, StructField\n",
    "from pyspark.sql.types import DoubleType, IntegerType, StringType\n",
    "from pyspark.sql import HiveContext\n",
    "from pyspark.sql.functions import *\n",
    "from pyspark.sql import functions as f\n",
    "from pyspark.sql.functions import col,trim,ltrim,rtrim,when,regexp_replace,concat_ws, lit, sha2\n",
    "\n",
    "import os\n",
    "import re "
   ]
  },
  {
   "cell_type": "code",
   "execution_count": 246,
   "metadata": {},
   "outputs": [],
   "source": [
    "#sessão do spark com o Hive\n",
    "#spark = SparkSession.builder.master(\"local[*]\")\\\n",
    "#    .enableHiveSupport()\\\n",
    "#    .getOrCreate()"
   ]
  },
  {
   "cell_type": "code",
   "execution_count": 247,
   "metadata": {},
   "outputs": [],
   "source": [
    "#Iniciando o tratamento dos dados\n",
    "df_clientes = spark.sql(\"select * from desafio_curso.tbl_clientes\")"
   ]
  },
  {
   "cell_type": "code",
   "execution_count": 248,
   "metadata": {},
   "outputs": [],
   "source": [
    "#Convertendo os tipos de dados\n",
    "df_clientes = df_clientes.withColumn(\"address_number\",col(\"address_number\").cast(IntegerType()))\\\n",
    "        .withColumn(\"business_unit\",col(\"business_unit\").cast(IntegerType()))\\\n",
    "        .withColumn(\"customerkey\",col(\"customerkey\").cast(IntegerType()))\\\n",
    "        .withColumn(\"division\",col(\"division\").cast(IntegerType()))\\\n",
    "        .withColumn(\"region_code\",col(\"region_code\").cast(IntegerType()))"
   ]
  },
  {
   "cell_type": "code",
   "execution_count": 249,
   "metadata": {},
   "outputs": [],
   "source": [
    "#Tratando as colunas vazias\n",
    "df_clientes = df_clientes.withColumn('line_of_business', regexp_replace('line_of_business', '   ', 'N/I'))"
   ]
  },
  {
   "cell_type": "code",
   "execution_count": 250,
   "metadata": {},
   "outputs": [
    {
     "data": {
      "text/plain": [
       "684"
      ]
     },
     "execution_count": 250,
     "metadata": {},
     "output_type": "execute_result"
    }
   ],
   "source": [
    "df_clientes.count()"
   ]
  },
  {
   "cell_type": "code",
   "execution_count": 251,
   "metadata": {},
   "outputs": [
    {
     "data": {
      "text/plain": [
       "684"
      ]
     },
     "execution_count": 251,
     "metadata": {},
     "output_type": "execute_result"
    }
   ],
   "source": [
    "#Removendo tuplas duplicadas\n",
    "df_clientes = df_clientes.distinct()\n",
    "df_clientes.count()"
   ]
  },
  {
   "cell_type": "code",
   "execution_count": 252,
   "metadata": {},
   "outputs": [
    {
     "name": "stdout",
     "output_type": "stream",
     "text": [
      "root\n",
      " |-- address_number: integer (nullable = true)\n",
      " |-- business_family: string (nullable = true)\n",
      " |-- business_unit: integer (nullable = true)\n",
      " |-- customer: string (nullable = true)\n",
      " |-- customerkey: integer (nullable = true)\n",
      " |-- customer_type: string (nullable = true)\n",
      " |-- division: integer (nullable = true)\n",
      " |-- line_of_business: string (nullable = true)\n",
      " |-- phone: string (nullable = true)\n",
      " |-- region_code: integer (nullable = true)\n",
      " |-- regional_sales_mgr: string (nullable = true)\n",
      " |-- search_type: string (nullable = true)\n",
      " |-- dt_foto: string (nullable = true)\n",
      "\n"
     ]
    }
   ],
   "source": [
    "df_clientes.printSchema()"
   ]
  },
  {
   "cell_type": "code",
   "execution_count": 253,
   "metadata": {},
   "outputs": [],
   "source": [
    "df_clientes.createOrReplaceTempView('tb_clientes')"
   ]
  },
  {
   "cell_type": "code",
   "execution_count": 254,
   "metadata": {},
   "outputs": [],
   "source": [
    "df_divisao = spark.sql(\"select * from desafio_curso.tbl_divisao\")"
   ]
  },
  {
   "cell_type": "code",
   "execution_count": 255,
   "metadata": {},
   "outputs": [],
   "source": [
    "df_divisao = df_divisao.withColumn(\"division\",col(\"division\").cast(IntegerType()))"
   ]
  },
  {
   "cell_type": "code",
   "execution_count": 256,
   "metadata": {},
   "outputs": [],
   "source": [
    "df_divisao.createOrReplaceTempView('tb_divisao')"
   ]
  },
  {
   "cell_type": "code",
   "execution_count": 257,
   "metadata": {},
   "outputs": [],
   "source": [
    "df_endereco = spark.sql(\"select * from desafio_curso.tbl_endereco\")"
   ]
  },
  {
   "cell_type": "code",
   "execution_count": 258,
   "metadata": {},
   "outputs": [
    {
     "name": "stdout",
     "output_type": "stream",
     "text": [
      "root\n",
      " |-- address_number: string (nullable = true)\n",
      " |-- city: string (nullable = true)\n",
      " |-- country: string (nullable = true)\n",
      " |-- customer_address_1: string (nullable = true)\n",
      " |-- customer_address_2: string (nullable = true)\n",
      " |-- customer_address_3: string (nullable = true)\n",
      " |-- customer_address_4: string (nullable = true)\n",
      " |-- state: string (nullable = true)\n",
      " |-- zip_code: string (nullable = true)\n",
      " |-- dt_foto: string (nullable = true)\n",
      "\n"
     ]
    }
   ],
   "source": [
    "df_endereco.printSchema()"
   ]
  },
  {
   "cell_type": "code",
   "execution_count": 259,
   "metadata": {},
   "outputs": [],
   "source": [
    "#Convertendo os tipos de dados\n",
    "df_endereco = df_endereco.withColumn(\"address_number\",col(\"address_number\").cast(IntegerType()))"
   ]
  },
  {
   "cell_type": "code",
   "execution_count": 260,
   "metadata": {},
   "outputs": [],
   "source": [
    "#Tratando as colunas vazias\n",
    "df_endereco = df_endereco.withColumn('city', regexp_replace('city', '                        ', 'N/I'))\\\n",
    "            .withColumn('customer_address_1', regexp_replace('customer_address_1', '                                       ', 'N/I'))\\\n",
    "            .withColumn('customer_address_2', regexp_replace('customer_address_2', '                                       ', 'N/I'))\\\n",
    "            .withColumn('customer_address_3', regexp_replace('customer_address_3', '                                       ', 'N/I'))\\\n",
    "            .withColumn('customer_address_4', regexp_replace('customer_address_4', '                                       ', 'N/I'))\\\n",
    "            .withColumn('zip_code', regexp_replace('zip_code', '            ', 'N/I'))\n",
    "df_endereco = df_endereco.select([when(col(c)==\"\",None).otherwise(col(c)).alias(c) for c in df_endereco.columns])\n",
    "df_endereco = df_endereco.na.fill(\"N/I\")"
   ]
  },
  {
   "cell_type": "code",
   "execution_count": 261,
   "metadata": {},
   "outputs": [],
   "source": [
    "df_endereco.createOrReplaceTempView('tb_endereco')"
   ]
  },
  {
   "cell_type": "code",
   "execution_count": 262,
   "metadata": {},
   "outputs": [],
   "source": [
    "df_regiao = spark.sql(\"select * from desafio_curso.tbl_regiao\")"
   ]
  },
  {
   "cell_type": "code",
   "execution_count": 263,
   "metadata": {},
   "outputs": [
    {
     "name": "stdout",
     "output_type": "stream",
     "text": [
      "root\n",
      " |-- region_code: string (nullable = true)\n",
      " |-- region_name: string (nullable = true)\n",
      " |-- dt_foto: string (nullable = true)\n",
      "\n"
     ]
    }
   ],
   "source": [
    "df_regiao.printSchema()"
   ]
  },
  {
   "cell_type": "code",
   "execution_count": 264,
   "metadata": {},
   "outputs": [],
   "source": [
    "#Convertendo os tipos de dados\n",
    "df_regiao = df_regiao.withColumn(\"region_code\",col(\"region_code\").cast(IntegerType()))"
   ]
  },
  {
   "cell_type": "code",
   "execution_count": 265,
   "metadata": {},
   "outputs": [],
   "source": [
    "df_regiao.createOrReplaceTempView('tb_regiao')"
   ]
  },
  {
   "cell_type": "code",
   "execution_count": 266,
   "metadata": {},
   "outputs": [],
   "source": [
    "df_vendas = spark.sql(\"select * from desafio_curso.tbl_vendas\")"
   ]
  },
  {
   "cell_type": "code",
   "execution_count": 267,
   "metadata": {},
   "outputs": [
    {
     "name": "stdout",
     "output_type": "stream",
     "text": [
      "root\n",
      " |-- actual_delivery_date: string (nullable = true)\n",
      " |-- customerkey: string (nullable = true)\n",
      " |-- datekey: string (nullable = true)\n",
      " |-- discount_amount: string (nullable = true)\n",
      " |-- invoice_date: string (nullable = true)\n",
      " |-- invoice_number: string (nullable = true)\n",
      " |-- item_class: string (nullable = true)\n",
      " |-- item_number: string (nullable = true)\n",
      " |-- item: string (nullable = true)\n",
      " |-- line_number: string (nullable = true)\n",
      " |-- list_price: string (nullable = true)\n",
      " |-- order_number: string (nullable = true)\n",
      " |-- promised_delivery_date: string (nullable = true)\n",
      " |-- sales_amount: string (nullable = true)\n",
      " |-- sales_amount_based_on_list_price: string (nullable = true)\n",
      " |-- sales_cost_amount: string (nullable = true)\n",
      " |-- sales_margin_amount: string (nullable = true)\n",
      " |-- sales_price: string (nullable = true)\n",
      " |-- sales_quantity: string (nullable = true)\n",
      " |-- sales_rep: string (nullable = true)\n",
      " |-- u_m: string (nullable = true)\n",
      " |-- dt_foto: string (nullable = true)\n",
      "\n"
     ]
    }
   ],
   "source": [
    "df_vendas.printSchema()"
   ]
  },
  {
   "cell_type": "code",
   "execution_count": 268,
   "metadata": {},
   "outputs": [],
   "source": [
    "#Convertendo os tipos de dados\n",
    "df_vendas = df_vendas.withColumn(\"customerkey\",col(\"customerkey\").cast(IntegerType()))\\\n",
    "        .withColumn(\"discount_amount\",col(\"discount_amount\").cast(DoubleType()))\\\n",
    "        .withColumn(\"invoice_number\",col(\"invoice_number\").cast(IntegerType()))\\\n",
    "        .withColumn(\"item_number\",col(\"item_number\").cast(IntegerType()))\\\n",
    "        .withColumn(\"line_number\",col(\"item_number\").cast(IntegerType()))\\\n",
    "        .withColumn(\"list_price\",col(\"list_price\").cast(DoubleType()))\\\n",
    "        .withColumn(\"order_number\",col(\"order_number\").cast(IntegerType()))\\\n",
    "        .withColumn(\"sales_amount\",col(\"sales_amount\").cast(DoubleType()))\\\n",
    "        .withColumn(\"sales_amount_based_on_list_price\",col(\"sales_amount_based_on_list_price\").cast(DoubleType()))\\\n",
    "        .withColumn(\"sales_cost_amount\",col(\"sales_cost_amount\").cast(DoubleType()))\\\n",
    "        .withColumn(\"sales_margin_amount\",col(\"sales_margin_amount\").cast(DoubleType()))\\\n",
    "        .withColumn(\"sales_price\",col(\"sales_price\").cast(DoubleType()))\\\n",
    "        .withColumn(\"sales_quantity\",col(\"sales_quantity\").cast(IntegerType()))\\\n",
    "        .withColumn(\"sales_rep\",col(\"sales_rep\").cast(IntegerType()))\n",
    "df_vendas = df_vendas.select('discount_amount',\n",
    "                             'invoice_number',\n",
    "                             'item_class',\n",
    "                             'item_number',\n",
    "                             'item',\n",
    "                             'line_number',\n",
    "                             'list_price',\n",
    "                             'order_number',\n",
    "                             'sales_amount',\n",
    "                             'sales_amount_based_on_list_price',\n",
    "                             'sales_cost_amount',\n",
    "                             'sales_margin_amount',\n",
    "                             'sales_price',\n",
    "                             'sales_quantity',\n",
    "                             'sales_rep',\n",
    "                             'u_m', \n",
    "                             'customerkey',\n",
    "                             'dt_foto',\n",
    "                             from_unixtime(unix_timestamp('actual_delivery_date', 'dd/MM/yyy')).alias('actual_delivery_date'),\n",
    "                             from_unixtime(unix_timestamp('invoice_date', 'dd/MM/yyy')).alias('invoice_date'),\n",
    "                             from_unixtime(unix_timestamp('promised_delivery_date', 'dd/MM/yyy')).alias('promised_delivery_date'),\n",
    "                             from_unixtime(unix_timestamp('datekey', 'dd/MM/yyy')).alias('datekey')\n",
    "                            )\n"
   ]
  },
  {
   "cell_type": "code",
   "execution_count": 269,
   "metadata": {},
   "outputs": [],
   "source": [
    "#Tratando as colunas vazias\n",
    "df_vendas = df_vendas.na.fill(value=0)\n",
    "df_vendas = df_vendas.select([when(col(c)==\"\",None).otherwise(col(c)).alias(c) for c in df_vendas.columns])\n",
    "df_vendas = df_vendas.na.fill(\"N/I\")\n",
    "df_vendas = df_vendas.withColumn(\"datekey\",to_timestamp(col(\"datekey\")))\n",
    "df_vendas = df_vendas.withColumn(\"promised_delivery_date\",to_timestamp(col(\"promised_delivery_date\")))\n",
    "df_vendas = df_vendas.withColumn(\"invoice_date\",to_timestamp(col(\"invoice_date\")))\n",
    "df_vendas = df_vendas.withColumn(\"actual_delivery_date\",to_timestamp(col(\"actual_delivery_date\")))"
   ]
  },
  {
   "cell_type": "code",
   "execution_count": 270,
   "metadata": {},
   "outputs": [
    {
     "name": "stdout",
     "output_type": "stream",
     "text": [
      "root\n",
      " |-- discount_amount: double (nullable = true)\n",
      " |-- invoice_number: integer (nullable = true)\n",
      " |-- item_class: string (nullable = false)\n",
      " |-- item_number: integer (nullable = true)\n",
      " |-- item: string (nullable = false)\n",
      " |-- line_number: integer (nullable = true)\n",
      " |-- list_price: double (nullable = true)\n",
      " |-- order_number: integer (nullable = true)\n",
      " |-- sales_amount: double (nullable = true)\n",
      " |-- sales_amount_based_on_list_price: double (nullable = true)\n",
      " |-- sales_cost_amount: double (nullable = true)\n",
      " |-- sales_margin_amount: double (nullable = true)\n",
      " |-- sales_price: double (nullable = true)\n",
      " |-- sales_quantity: integer (nullable = true)\n",
      " |-- sales_rep: integer (nullable = true)\n",
      " |-- u_m: string (nullable = false)\n",
      " |-- customerkey: integer (nullable = true)\n",
      " |-- dt_foto: string (nullable = false)\n",
      " |-- actual_delivery_date: timestamp (nullable = true)\n",
      " |-- invoice_date: timestamp (nullable = true)\n",
      " |-- promised_delivery_date: timestamp (nullable = true)\n",
      " |-- datekey: timestamp (nullable = true)\n",
      "\n"
     ]
    }
   ],
   "source": [
    "df_vendas.printSchema()"
   ]
  },
  {
   "cell_type": "code",
   "execution_count": 271,
   "metadata": {},
   "outputs": [],
   "source": [
    "df_vendas.createOrReplaceTempView('tb_vendas')"
   ]
  },
  {
   "cell_type": "code",
   "execution_count": 272,
   "metadata": {},
   "outputs": [],
   "source": [
    "#Criando tabelão com todos os dados\n",
    "query='''\n",
    "SELECT    c.customerkey\n",
    "          ,c.customer\n",
    "          ,c.customer_type\n",
    "          ,c.business_family\n",
    "          ,c.business_unit\n",
    "          ,c.division\n",
    "          ,d.division_name\n",
    "          ,c.line_of_business\n",
    "          ,c.phone\n",
    "          ,c.region_code\n",
    "          ,r.region_name\n",
    "          ,c.regional_sales_mgr\n",
    "          ,c.search_type\n",
    "          ,v.datekey\n",
    "          ,v.actual_delivery_date\n",
    "          ,v.discount_amount\n",
    "          ,v.invoice_date\n",
    "          ,v.invoice_number\n",
    "          ,v.item_class\n",
    "          ,v.item_number\n",
    "          ,v.item\n",
    "          ,v.line_number\n",
    "          ,v.list_price\n",
    "          ,v.order_number\n",
    "          ,v.promised_delivery_date\n",
    "          ,v.sales_amount\n",
    "          ,v.sales_amount_based_on_list_price\n",
    "          ,v.sales_cost_amount\n",
    "          ,v.sales_margin_amount\n",
    "          ,v.sales_price\n",
    "          ,v.sales_quantity\n",
    "          ,v.sales_rep\n",
    "          ,v.u_m\n",
    "          ,e.address_number\n",
    "          ,e.city\n",
    "          ,e.country\n",
    "          ,e.customer_address_1\n",
    "          ,e.customer_address_2\n",
    "          ,e.customer_address_3\n",
    "          ,e.customer_address_4\n",
    "          ,e.state\n",
    "          ,e.zip_code\n",
    "          ,e.dt_foto\n",
    "FROM      tb_vendas v\n",
    "          INNER JOIN tb_clientes c ON v.customerkey == c.customerkey\n",
    "          INNER JOIN tb_regiao r ON c.region_code == r.region_code\n",
    "          INNER JOIN tb_divisao d ON c.division == d.division\n",
    "          LEFT JOIN tb_endereco e ON c.address_number == e.address_number\n",
    "'''"
   ]
  },
  {
   "cell_type": "code",
   "execution_count": 273,
   "metadata": {},
   "outputs": [],
   "source": [
    "df_stage = spark.sql(query)"
   ]
  },
  {
   "cell_type": "code",
   "execution_count": 274,
   "metadata": {},
   "outputs": [
    {
     "name": "stdout",
     "output_type": "stream",
     "text": [
      "root\n",
      " |-- customerkey: integer (nullable = true)\n",
      " |-- customer: string (nullable = true)\n",
      " |-- customer_type: string (nullable = true)\n",
      " |-- business_family: string (nullable = true)\n",
      " |-- business_unit: integer (nullable = true)\n",
      " |-- division: integer (nullable = true)\n",
      " |-- division_name: string (nullable = true)\n",
      " |-- line_of_business: string (nullable = true)\n",
      " |-- phone: string (nullable = true)\n",
      " |-- region_code: integer (nullable = true)\n",
      " |-- region_name: string (nullable = true)\n",
      " |-- regional_sales_mgr: string (nullable = true)\n",
      " |-- search_type: string (nullable = true)\n",
      " |-- datekey: timestamp (nullable = true)\n",
      " |-- actual_delivery_date: timestamp (nullable = true)\n",
      " |-- discount_amount: double (nullable = true)\n",
      " |-- invoice_date: timestamp (nullable = true)\n",
      " |-- invoice_number: integer (nullable = true)\n",
      " |-- item_class: string (nullable = false)\n",
      " |-- item_number: integer (nullable = true)\n",
      " |-- item: string (nullable = false)\n",
      " |-- line_number: integer (nullable = true)\n",
      " |-- list_price: double (nullable = true)\n",
      " |-- order_number: integer (nullable = true)\n",
      " |-- promised_delivery_date: timestamp (nullable = true)\n",
      " |-- sales_amount: double (nullable = true)\n",
      " |-- sales_amount_based_on_list_price: double (nullable = true)\n",
      " |-- sales_cost_amount: double (nullable = true)\n",
      " |-- sales_margin_amount: double (nullable = true)\n",
      " |-- sales_price: double (nullable = true)\n",
      " |-- sales_quantity: integer (nullable = true)\n",
      " |-- sales_rep: integer (nullable = true)\n",
      " |-- u_m: string (nullable = false)\n",
      " |-- address_number: integer (nullable = true)\n",
      " |-- city: string (nullable = true)\n",
      " |-- country: string (nullable = true)\n",
      " |-- customer_address_1: string (nullable = true)\n",
      " |-- customer_address_2: string (nullable = true)\n",
      " |-- customer_address_3: string (nullable = true)\n",
      " |-- customer_address_4: string (nullable = true)\n",
      " |-- state: string (nullable = true)\n",
      " |-- zip_code: string (nullable = true)\n",
      " |-- dt_foto: string (nullable = true)\n",
      "\n"
     ]
    }
   ],
   "source": [
    "df_stage.printSchema()"
   ]
  },
  {
   "cell_type": "code",
   "execution_count": 275,
   "metadata": {},
   "outputs": [],
   "source": [
    "df_stage = (df_stage\n",
    "            .withColumn('Ano', year(df_stage.invoice_date))\n",
    "            .withColumn('Mes', month(df_stage.invoice_date))\n",
    "            .withColumn('Dia', dayofmonth(df_stage.invoice_date))\n",
    "            .withColumn('Trimestre', quarter(df_stage.invoice_date))\n",
    "           )\n",
    "\n",
    "df_stage = df_stage.select([when(col(c)==\"\",None).otherwise(col(c)).alias(c) for c in df_stage.columns])\n",
    "df_stage = df_stage.na.fill(\"N/I\")"
   ]
  },
  {
   "cell_type": "code",
   "execution_count": 276,
   "metadata": {},
   "outputs": [
    {
     "name": "stdout",
     "output_type": "stream",
     "text": [
      "root\n",
      " |-- customerkey: integer (nullable = true)\n",
      " |-- customer: string (nullable = false)\n",
      " |-- customer_type: string (nullable = false)\n",
      " |-- business_family: string (nullable = false)\n",
      " |-- business_unit: integer (nullable = true)\n",
      " |-- division: integer (nullable = true)\n",
      " |-- division_name: string (nullable = false)\n",
      " |-- line_of_business: string (nullable = false)\n",
      " |-- phone: string (nullable = false)\n",
      " |-- region_code: integer (nullable = true)\n",
      " |-- region_name: string (nullable = false)\n",
      " |-- regional_sales_mgr: string (nullable = false)\n",
      " |-- search_type: string (nullable = false)\n",
      " |-- datekey: timestamp (nullable = true)\n",
      " |-- actual_delivery_date: timestamp (nullable = true)\n",
      " |-- discount_amount: double (nullable = true)\n",
      " |-- invoice_date: timestamp (nullable = true)\n",
      " |-- invoice_number: integer (nullable = true)\n",
      " |-- item_class: string (nullable = false)\n",
      " |-- item_number: integer (nullable = true)\n",
      " |-- item: string (nullable = false)\n",
      " |-- line_number: integer (nullable = true)\n",
      " |-- list_price: double (nullable = true)\n",
      " |-- order_number: integer (nullable = true)\n",
      " |-- promised_delivery_date: timestamp (nullable = true)\n",
      " |-- sales_amount: double (nullable = true)\n",
      " |-- sales_amount_based_on_list_price: double (nullable = true)\n",
      " |-- sales_cost_amount: double (nullable = true)\n",
      " |-- sales_margin_amount: double (nullable = true)\n",
      " |-- sales_price: double (nullable = true)\n",
      " |-- sales_quantity: integer (nullable = true)\n",
      " |-- sales_rep: integer (nullable = true)\n",
      " |-- u_m: string (nullable = false)\n",
      " |-- address_number: integer (nullable = true)\n",
      " |-- city: string (nullable = false)\n",
      " |-- country: string (nullable = false)\n",
      " |-- customer_address_1: string (nullable = false)\n",
      " |-- customer_address_2: string (nullable = false)\n",
      " |-- customer_address_3: string (nullable = false)\n",
      " |-- customer_address_4: string (nullable = false)\n",
      " |-- state: string (nullable = false)\n",
      " |-- zip_code: string (nullable = false)\n",
      " |-- dt_foto: string (nullable = false)\n",
      " |-- Ano: integer (nullable = true)\n",
      " |-- Mes: integer (nullable = true)\n",
      " |-- Dia: integer (nullable = true)\n",
      " |-- Trimestre: integer (nullable = true)\n",
      "\n"
     ]
    }
   ],
   "source": [
    "df_stage.printSchema()"
   ]
  },
  {
   "cell_type": "code",
   "execution_count": 278,
   "metadata": {},
   "outputs": [],
   "source": [
    "#Gerando keys para as DW\n",
    "\n",
    "df_stage = df_stage.withColumn('key_cliente',sha2(col(\"customerkey\").cast(StringType()),256))\n",
    "df_stage = df_stage.withColumn('key_tempo',sha2(concat_ws('|', col('invoice_date'), col('Ano'),col('Mes'),col('Dia')),256))\n",
    "df_stage = df_stage.withColumn('key_localidade',sha2(concat_ws('|', col('division'), col('region_code'),col('address_number')),256))"
   ]
  },
  {
   "cell_type": "code",
   "execution_count": 279,
   "metadata": {},
   "outputs": [],
   "source": [
    "df_stage.createOrReplaceTempView('tb_stage')"
   ]
  },
  {
   "cell_type": "code",
   "execution_count": 280,
   "metadata": {},
   "outputs": [
    {
     "name": "stdout",
     "output_type": "stream",
     "text": [
      "+-----------+-------------+-------------+---------------+-------------+--------+-------------+----------------+------------+-----------+-------------+------------------+-----------+-------------------+--------------------+---------------+-------------------+--------------+----------+-----------+--------------------+-----------+----------+------------+----------------------+------------+--------------------------------+-----------------+-------------------+-----------+--------------+---------+---+--------------+----+-------+------------------+------------------+------------------+------------------+-----+--------+-------+----+---+---+---------+--------------------+--------------------+--------------------+\n",
      "|customerkey|     customer|customer_type|business_family|business_unit|division|division_name|line_of_business|       phone|region_code|  region_name|regional_sales_mgr|search_type|            datekey|actual_delivery_date|discount_amount|       invoice_date|invoice_number|item_class|item_number|                item|line_number|list_price|order_number|promised_delivery_date|sales_amount|sales_amount_based_on_list_price|sales_cost_amount|sales_margin_amount|sales_price|sales_quantity|sales_rep|u_m|address_number|city|country|customer_address_1|customer_address_2|customer_address_3|customer_address_4|state|zip_code|dt_foto| Ano|Mes|Dia|Trimestre|         key_cliente|           key_tempo|      key_localidade|\n",
      "+-----------+-------------+-------------+---------------+-------------+--------+-------------+----------------+------------+-----------+-------------+------------------+-----------+-------------------+--------------------+---------------+-------------------+--------------+----------+-----------+--------------------+-----------+----------+------------+----------------------+------------+--------------------------------+-----------------+-------------------+-----------+--------------+---------+---+--------------+----+-------+------------------+------------------+------------------+------------------+-----+--------+-------+----+---+---+---------+--------------------+--------------------+--------------------+\n",
      "|   10013312| Gate9th Shop|           G2|             R2|            1|       1|International|             N/I|816-455-8733|          5|International|                S9|          C|2017-02-12 00:00:00| 2018-02-12 00:00:00|            0.0|2017-02-15 00:00:00|        321775|       P01|      67550|  Discover Manicotti|      67550|       0.0|      117441|   2018-02-12 00:00:00|         0.0|                             0.0|              0.0|                0.0|        0.0|             1|      151| EA|          null| N/I|    N/I|               N/I|               N/I|               N/I|               N/I|  N/I|     N/I|    N/I|2017|  2| 15|        1|08b97a47ed0d446e6...|456e783539246c9c1...|53c5785493bc683c6...|\n",
      "|   10013312| Gate9th Shop|           G2|             R2|            1|       1|International|             N/I|816-455-8733|          5|International|                S9|          C|2017-05-31 00:00:00| 2018-05-31 00:00:00|            0.0|2017-06-02 00:00:00|        302880|       P01|      38076|Cutting Edge Foot...|      38076|       0.0|      103178|   2018-05-31 00:00:00|         0.0|                             0.0|              0.0|                0.0|        0.0|             1|      151| EA|          null| N/I|    N/I|               N/I|               N/I|               N/I|               N/I|  N/I|     N/I|    N/I|2017|  6|  2|        2|08b97a47ed0d446e6...|aef576f2bdd52d3ea...|53c5785493bc683c6...|\n",
      "|   10013312| Gate9th Shop|           G2|             R2|            1|       1|International|             N/I|816-455-8733|          5|International|                S9|          C|2017-08-14 00:00:00| 2018-08-14 00:00:00|            0.0|2017-08-16 00:00:00|        309387|       P01|      67550|  Discover Manicotti|      67550|       0.0|      106748|   2018-08-14 00:00:00|         0.0|                             0.0|              0.0|                0.0|        0.0|             1|      151| EA|          null| N/I|    N/I|               N/I|               N/I|               N/I|               N/I|  N/I|     N/I|    N/I|2017|  8| 16|        3|08b97a47ed0d446e6...|359aa4bb1d93b9fcf...|53c5785493bc683c6...|\n",
      "|   10018352|Johnson Store|           G3|             R3|            1|       1|International|             N/I|816-455-8733|          5|International|                S5|          C|2018-02-19 00:00:00| 2019-02-19 00:00:00|            0.0|2018-02-21 00:00:00|        123325|       P01|      27550|   Imagine Popsicles|      27550|       0.0|      219128|   2019-02-19 00:00:00|         0.0|                             0.0|              0.0|                0.0|        0.0|             2|      159| EA|          null| N/I|    N/I|               N/I|               N/I|               N/I|               N/I|  N/I|     N/I|    N/I|2018|  2| 21|        1|5c79ecb4db821da36...|4c31d9ec0b9aae735...|53c5785493bc683c6...|\n",
      "|   10018352|Johnson Store|           G3|             R3|            1|       1|International|             N/I|816-455-8733|          5|International|                S5|          C|2018-02-19 00:00:00| 2019-02-19 00:00:00|            0.0|2018-02-21 00:00:00|        123325|       P01|      20990|     Moms Sliced Ham|      20990|     101.0|      219128|   2019-02-19 00:00:00|         0.0|                          2020.0|              0.0|                0.0|        0.0|            20|      159| SE|          null| N/I|    N/I|               N/I|               N/I|               N/I|               N/I|  N/I|     N/I|    N/I|2018|  2| 21|        1|5c79ecb4db821da36...|4c31d9ec0b9aae735...|53c5785493bc683c6...|\n",
      "|   10018352|Johnson Store|           G3|             R3|            1|       1|International|             N/I|816-455-8733|          5|International|                S5|          C|2018-02-19 00:00:00| 2019-02-19 00:00:00|            0.0|2018-02-21 00:00:00|        123325|       P01|      62616|     Tell Tale Limes|      62616|     298.0|      219128|   2019-02-19 00:00:00|         0.0|                           894.0|              0.0|                0.0|        0.0|             3|      159| EA|          null| N/I|    N/I|               N/I|               N/I|               N/I|               N/I|  N/I|     N/I|    N/I|2018|  2| 21|        1|5c79ecb4db821da36...|4c31d9ec0b9aae735...|53c5785493bc683c6...|\n",
      "|   10018352|Johnson Store|           G3|             R3|            1|       1|International|             N/I|816-455-8733|          5|International|                S5|          C|2018-02-19 00:00:00| 2019-02-19 00:00:00|            0.0|2018-02-21 00:00:00|        123325|       P01|      63559|Gorilla String Ch...|      63559|     298.0|      219128|   2019-02-19 00:00:00|         0.0|                           894.0|              0.0|                0.0|        0.0|             3|      159| EA|          null| N/I|    N/I|               N/I|               N/I|               N/I|               N/I|  N/I|     N/I|    N/I|2018|  2| 21|        1|5c79ecb4db821da36...|4c31d9ec0b9aae735...|53c5785493bc683c6...|\n",
      "|   10018352|Johnson Store|           G3|             R3|            1|       1|International|             N/I|816-455-8733|          5|International|                S5|          C|2017-05-29 00:00:00| 2018-05-29 00:00:00|            0.0|2017-05-31 00:00:00|        302538|       P01|      39185|Nationeel Grape F...|      39185|       0.0|      101153|   2018-05-29 00:00:00|         0.0|                             0.0|              0.0|                0.0|        0.0|             1|      127| EA|          null| N/I|    N/I|               N/I|               N/I|               N/I|               N/I|  N/I|     N/I|    N/I|2017|  5| 31|        2|5c79ecb4db821da36...|c7b8b2dc4ba8ff15b...|53c5785493bc683c6...|\n",
      "|   10018352|Johnson Store|           G3|             R3|            1|       1|International|             N/I|816-455-8733|          5|International|                S5|          C|2017-06-13 00:00:00| 2018-06-12 00:00:00|            0.0|2017-06-15 00:00:00|        303939|       P01|      39185|Nationeel Grape F...|      39185|       0.0|      101153|   2018-06-12 00:00:00|         0.0|                             0.0|              0.0|                0.0|        0.0|             6|      127| EA|          null| N/I|    N/I|               N/I|               N/I|               N/I|               N/I|  N/I|     N/I|    N/I|2017|  6| 15|        2|5c79ecb4db821da36...|dae39251402496152...|53c5785493bc683c6...|\n",
      "|   10018352|Johnson Store|           G3|             R3|            1|       1|International|             N/I|816-455-8733|          5|International|                S5|          C|2017-06-19 00:00:00| 2018-06-19 00:00:00|            0.0|2017-06-21 00:00:00|        304471|       P01|      39185|Nationeel Grape F...|      39185|       0.0|      101153|   2018-06-19 00:00:00|         0.0|                             0.0|              0.0|                0.0|        0.0|            10|      127| EA|          null| N/I|    N/I|               N/I|               N/I|               N/I|               N/I|  N/I|     N/I|    N/I|2017|  6| 21|        2|5c79ecb4db821da36...|c878db62a0729363a...|53c5785493bc683c6...|\n",
      "|   10018352|Johnson Store|           G3|             R3|            1|       1|International|             N/I|816-455-8733|          5|International|                S5|          C|2018-08-19 00:00:00| 2019-08-19 00:00:00|            0.0|2018-08-21 00:00:00|        110971|       P01|      27550|   Imagine Popsicles|      27550|       0.0|      208667|   2019-08-19 00:00:00|         0.0|                             0.0|              0.0|                0.0|        0.0|             2|      159| EA|          null| N/I|    N/I|               N/I|               N/I|               N/I|               N/I|  N/I|     N/I|    N/I|2018|  8| 21|        3|5c79ecb4db821da36...|a78b89578cff7e903...|53c5785493bc683c6...|\n",
      "|   10018352|Johnson Store|           G3|             R3|            1|       1|International|             N/I|816-455-8733|          5|International|                S5|          C|2018-08-19 00:00:00| 2019-08-19 00:00:00|            0.0|2018-08-21 00:00:00|        110971|       P01|      20990|     Moms Sliced Ham|      20990|     101.0|      208667|   2019-08-19 00:00:00|         0.0|                          2020.0|              0.0|                0.0|        0.0|            20|      159| SE|          null| N/I|    N/I|               N/I|               N/I|               N/I|               N/I|  N/I|     N/I|    N/I|2018|  8| 21|        3|5c79ecb4db821da36...|a78b89578cff7e903...|53c5785493bc683c6...|\n",
      "|   10018352|Johnson Store|           G3|             R3|            1|       1|International|             N/I|816-455-8733|          5|International|                S5|          C|2018-08-19 00:00:00| 2019-08-19 00:00:00|            0.0|2018-08-21 00:00:00|        110971|       P01|      62616|     Tell Tale Limes|      62616|     298.0|      208667|   2019-08-19 00:00:00|         0.0|                           894.0|              0.0|                0.0|        0.0|             3|      159| EA|          null| N/I|    N/I|               N/I|               N/I|               N/I|               N/I|  N/I|     N/I|    N/I|2018|  8| 21|        3|5c79ecb4db821da36...|a78b89578cff7e903...|53c5785493bc683c6...|\n",
      "|   10018352|Johnson Store|           G3|             R3|            1|       1|International|             N/I|816-455-8733|          5|International|                S5|          C|2018-08-19 00:00:00| 2019-08-19 00:00:00|            0.0|2018-08-21 00:00:00|        110971|       P01|      63559|Gorilla String Ch...|      63559|     298.0|      208667|   2019-08-19 00:00:00|         0.0|                           894.0|              0.0|                0.0|        0.0|             3|      159| EA|          null| N/I|    N/I|               N/I|               N/I|               N/I|               N/I|  N/I|     N/I|    N/I|2018|  8| 21|        3|5c79ecb4db821da36...|a78b89578cff7e903...|53c5785493bc683c6...|\n",
      "|   10018352|Johnson Store|           G3|             R3|            1|       1|International|             N/I|816-455-8733|          5|International|                S5|          C|2018-08-27 00:00:00| 2019-08-26 00:00:00|            0.0|2018-08-29 00:00:00|        111708|       P01|      63560|Gorilla Low Fat S...|      63560|     298.0|      208667|   2019-08-26 00:00:00|         0.0|                           894.0|              0.0|                0.0|        0.0|             3|      159| EA|          null| N/I|    N/I|               N/I|               N/I|               N/I|               N/I|  N/I|     N/I|    N/I|2018|  8| 29|        3|5c79ecb4db821da36...|c5685fcc5f5cb7c1c...|53c5785493bc683c6...|\n",
      "|   10018352|Johnson Store|           G3|             R3|            1|       1|International|             N/I|816-455-8733|          5|International|                S5|          C|2019-01-05 00:00:00| 2020-01-05 00:00:00|            0.0|2019-01-07 00:00:00|        220089|       P01|      17801|Better Fancy Cann...|      17801|       0.0|      317266|   2020-01-05 00:00:00|         0.0|                             0.0|              0.0|                0.0|        0.0|             1|      127| EA|          null| N/I|    N/I|               N/I|               N/I|               N/I|               N/I|  N/I|     N/I|    N/I|2019|  1|  7|        1|5c79ecb4db821da36...|e5303a8c586756c0f...|53c5785493bc683c6...|\n",
      "|   10018352|Johnson Store|           G3|             R3|            1|       1|International|             N/I|816-455-8733|          5|International|                S5|          C|2019-01-05 00:00:00| 2020-01-05 00:00:00|            0.0|2019-01-07 00:00:00|        220087|       P01|      17801|Better Fancy Cann...|      17801|       0.0|      317251|   2020-01-05 00:00:00|         0.0|                             0.0|              0.0|                0.0|        0.0|             1|      127| EA|          null| N/I|    N/I|               N/I|               N/I|               N/I|               N/I|  N/I|     N/I|    N/I|2019|  1|  7|        1|5c79ecb4db821da36...|e5303a8c586756c0f...|53c5785493bc683c6...|\n",
      "|   10018352|Johnson Store|           G3|             R3|            1|       1|International|             N/I|816-455-8733|          5|International|                S5|          C|2019-01-26 00:00:00| 2020-01-26 00:00:00|            0.0|2019-01-28 00:00:00|        221909|       P01|      38051|     Gorilla 1% Milk|      38051|       0.0|      317266|   2020-01-26 00:00:00|         0.0|                             0.0|              0.0|                0.0|        0.0|             1|      127| EA|          null| N/I|    N/I|               N/I|               N/I|               N/I|               N/I|  N/I|     N/I|    N/I|2019|  1| 28|        1|5c79ecb4db821da36...|92dddeeb7f9e305fb...|53c5785493bc683c6...|\n",
      "|   10018352|Johnson Store|           G3|             R3|            1|       1|International|             N/I|816-455-8733|          5|International|                S5|          C|2019-02-16 00:00:00| 2020-02-16 00:00:00|            0.0|2019-02-18 00:00:00|        223677|       P01|      38061|Gorilla Blueberry...|      38061|       0.0|      317266|   2020-02-16 00:00:00|         0.0|                             0.0|              0.0|                0.0|        0.0|             1|      127| EA|          null| N/I|    N/I|               N/I|               N/I|               N/I|               N/I|  N/I|     N/I|    N/I|2019|  2| 18|        1|5c79ecb4db821da36...|5c48ab4bdaf3122bc...|53c5785493bc683c6...|\n",
      "|   10018352|Johnson Store|           G3|             R3|            1|       1|International|             N/I|816-455-8733|          5|International|                S5|          C|2019-03-08 00:00:00| 2020-03-08 00:00:00|            0.0|2019-03-11 00:00:00|        225472|       P01|      63560|Gorilla Low Fat S...|      63560|     298.0|      320854|   2020-03-08 00:00:00|         0.0|                          1192.0|              0.0|                0.0|        0.0|             4|      127| EA|          null| N/I|    N/I|               N/I|               N/I|               N/I|               N/I|  N/I|     N/I|    N/I|2019|  3| 11|        1|5c79ecb4db821da36...|73097d029dc8b5b8f...|53c5785493bc683c6...|\n",
      "+-----------+-------------+-------------+---------------+-------------+--------+-------------+----------------+------------+-----------+-------------+------------------+-----------+-------------------+--------------------+---------------+-------------------+--------------+----------+-----------+--------------------+-----------+----------+------------+----------------------+------------+--------------------------------+-----------------+-------------------+-----------+--------------+---------+---+--------------+----+-------+------------------+------------------+------------------+------------------+-----+--------+-------+----+---+---+---------+--------------------+--------------------+--------------------+\n",
      "only showing top 20 rows\n",
      "\n"
     ]
    }
   ],
   "source": [
    "df_stage.show()"
   ]
  },
  {
   "cell_type": "code",
   "execution_count": 282,
   "metadata": {},
   "outputs": [
    {
     "ename": "ParseException",
     "evalue": "'\\nLiterals of type \\'BUSINESS_FAMILY\\' are currently not supported.(line 3, pos 9)\\n\\n== SQL ==\\n\\n    SELECT DISTINCT key_cliente\\n        ,business_family \"Business Family\"\\n---------^^^\\n        ,customer \"Customer\"\\n        ,customer_type \"Custome Type\"\\n        ,line_of_business\\n        ,regional_sales_mgr\\n        ,search_type\\n    FROM tb_stage    \\n'",
     "output_type": "error",
     "traceback": [
      "\u001b[0;31m---------------------------------------------------------------------------\u001b[0m",
      "\u001b[0;31mPy4JJavaError\u001b[0m                             Traceback (most recent call last)",
      "\u001b[0;32m/opt/spark/python/pyspark/sql/utils.py\u001b[0m in \u001b[0;36mdeco\u001b[0;34m(*a, **kw)\u001b[0m\n\u001b[1;32m     62\u001b[0m         \u001b[0;32mtry\u001b[0m\u001b[0;34m:\u001b[0m\u001b[0;34m\u001b[0m\u001b[0;34m\u001b[0m\u001b[0m\n\u001b[0;32m---> 63\u001b[0;31m             \u001b[0;32mreturn\u001b[0m \u001b[0mf\u001b[0m\u001b[0;34m(\u001b[0m\u001b[0;34m*\u001b[0m\u001b[0ma\u001b[0m\u001b[0;34m,\u001b[0m \u001b[0;34m**\u001b[0m\u001b[0mkw\u001b[0m\u001b[0;34m)\u001b[0m\u001b[0;34m\u001b[0m\u001b[0;34m\u001b[0m\u001b[0m\n\u001b[0m\u001b[1;32m     64\u001b[0m         \u001b[0;32mexcept\u001b[0m \u001b[0mpy4j\u001b[0m\u001b[0;34m.\u001b[0m\u001b[0mprotocol\u001b[0m\u001b[0;34m.\u001b[0m\u001b[0mPy4JJavaError\u001b[0m \u001b[0;32mas\u001b[0m \u001b[0me\u001b[0m\u001b[0;34m:\u001b[0m\u001b[0;34m\u001b[0m\u001b[0;34m\u001b[0m\u001b[0m\n",
      "\u001b[0;32m/opt/spark/python/lib/py4j-0.10.7-src.zip/py4j/protocol.py\u001b[0m in \u001b[0;36mget_return_value\u001b[0;34m(answer, gateway_client, target_id, name)\u001b[0m\n\u001b[1;32m    327\u001b[0m                     \u001b[0;34m\"An error occurred while calling {0}{1}{2}.\\n\"\u001b[0m\u001b[0;34m.\u001b[0m\u001b[0;34m\u001b[0m\u001b[0;34m\u001b[0m\u001b[0m\n\u001b[0;32m--> 328\u001b[0;31m                     format(target_id, \".\", name), value)\n\u001b[0m\u001b[1;32m    329\u001b[0m             \u001b[0;32melse\u001b[0m\u001b[0;34m:\u001b[0m\u001b[0;34m\u001b[0m\u001b[0;34m\u001b[0m\u001b[0m\n",
      "\u001b[0;31mPy4JJavaError\u001b[0m: An error occurred while calling o38.sql.\n: org.apache.spark.sql.catalyst.parser.ParseException: \nLiterals of type 'BUSINESS_FAMILY' are currently not supported.(line 3, pos 9)\n\n== SQL ==\n\n    SELECT DISTINCT key_cliente\n        ,business_family \"Business Family\"\n---------^^^\n        ,customer \"Customer\"\n        ,customer_type \"Custome Type\"\n        ,line_of_business\n        ,regional_sales_mgr\n        ,search_type\n    FROM tb_stage    \n\n\tat org.apache.spark.sql.catalyst.parser.AstBuilder$$anonfun$visitTypeConstructor$1.apply(AstBuilder.scala:1563)\n\tat org.apache.spark.sql.catalyst.parser.AstBuilder$$anonfun$visitTypeConstructor$1.apply(AstBuilder.scala:1550)\n\tat org.apache.spark.sql.catalyst.parser.ParserUtils$.withOrigin(ParserUtils.scala:108)\n\tat org.apache.spark.sql.catalyst.parser.AstBuilder.visitTypeConstructor(AstBuilder.scala:1550)\n\tat org.apache.spark.sql.catalyst.parser.AstBuilder.visitTypeConstructor(AstBuilder.scala:49)\n\tat org.apache.spark.sql.catalyst.parser.SqlBaseParser$TypeConstructorContext.accept(SqlBaseParser.java:13729)\n\tat org.apache.spark.sql.catalyst.parser.AstBuilder.visitChildren(AstBuilder.scala:65)\n\tat org.apache.spark.sql.catalyst.parser.SqlBaseBaseVisitor.visitConstantDefault(SqlBaseBaseVisitor.java:1112)\n\tat org.apache.spark.sql.catalyst.parser.SqlBaseParser$ConstantDefaultContext.accept(SqlBaseParser.java:12931)\n\tat org.apache.spark.sql.catalyst.parser.AstBuilder.visitChildren(AstBuilder.scala:65)\n\tat org.apache.spark.sql.catalyst.parser.SqlBaseBaseVisitor.visitValueExpressionDefault(SqlBaseBaseVisitor.java:1014)\n\tat org.apache.spark.sql.catalyst.parser.SqlBaseParser$ValueExpressionDefaultContext.accept(SqlBaseParser.java:12405)\n\tat org.apache.spark.sql.catalyst.parser.AstBuilder.typedVisit(AstBuilder.scala:55)\n\tat org.apache.spark.sql.catalyst.parser.AstBuilder.expression(AstBuilder.scala:961)\n\tat org.apache.spark.sql.catalyst.parser.AstBuilder$$anonfun$visitPredicated$1.apply(AstBuilder.scala:1097)\n\tat org.apache.spark.sql.catalyst.parser.AstBuilder$$anonfun$visitPredicated$1.apply(AstBuilder.scala:1096)\n\tat org.apache.spark.sql.catalyst.parser.ParserUtils$.withOrigin(ParserUtils.scala:108)\n\tat org.apache.spark.sql.catalyst.parser.AstBuilder.visitPredicated(AstBuilder.scala:1096)\n\tat org.apache.spark.sql.catalyst.parser.AstBuilder.visitPredicated(AstBuilder.scala:49)\n\tat org.apache.spark.sql.catalyst.parser.SqlBaseParser$PredicatedContext.accept(SqlBaseParser.java:11978)\n\tat org.apache.spark.sql.catalyst.parser.AstBuilder.visitChildren(AstBuilder.scala:65)\n\tat org.apache.spark.sql.catalyst.parser.SqlBaseBaseVisitor.visitExpression(SqlBaseBaseVisitor.java:972)\n\tat org.apache.spark.sql.catalyst.parser.SqlBaseParser$ExpressionContext.accept(SqlBaseParser.java:11903)\n\tat org.apache.spark.sql.catalyst.parser.AstBuilder.typedVisit(AstBuilder.scala:55)\n\tat org.apache.spark.sql.catalyst.parser.AstBuilder.expression(AstBuilder.scala:961)\n\tat org.apache.spark.sql.catalyst.parser.AstBuilder$$anonfun$visitNamedExpression$1.apply(AstBuilder.scala:983)\n\tat org.apache.spark.sql.catalyst.parser.AstBuilder$$anonfun$visitNamedExpression$1.apply(AstBuilder.scala:982)\n\tat org.apache.spark.sql.catalyst.parser.ParserUtils$.withOrigin(ParserUtils.scala:108)\n\tat org.apache.spark.sql.catalyst.parser.AstBuilder.visitNamedExpression(AstBuilder.scala:982)\n\tat org.apache.spark.sql.catalyst.parser.AstBuilder.visitNamedExpression(AstBuilder.scala:49)\n\tat org.apache.spark.sql.catalyst.parser.SqlBaseParser$NamedExpressionContext.accept(SqlBaseParser.java:11546)\n\tat org.apache.spark.sql.catalyst.parser.AstBuilder.typedVisit(AstBuilder.scala:55)\n\tat org.apache.spark.sql.catalyst.parser.AstBuilder$$anonfun$org$apache$spark$sql$catalyst$parser$AstBuilder$$withQuerySpecification$1$$anonfun$19.apply(AstBuilder.scala:411)\n\tat org.apache.spark.sql.catalyst.parser.AstBuilder$$anonfun$org$apache$spark$sql$catalyst$parser$AstBuilder$$withQuerySpecification$1$$anonfun$19.apply(AstBuilder.scala:411)\n\tat scala.collection.TraversableLike$$anonfun$map$1.apply(TraversableLike.scala:234)\n\tat scala.collection.TraversableLike$$anonfun$map$1.apply(TraversableLike.scala:234)\n\tat scala.collection.immutable.List.foreach(List.scala:392)\n\tat scala.collection.TraversableLike$class.map(TraversableLike.scala:234)\n\tat scala.collection.immutable.List.map(List.scala:296)\n\tat org.apache.spark.sql.catalyst.parser.AstBuilder$$anonfun$org$apache$spark$sql$catalyst$parser$AstBuilder$$withQuerySpecification$1.apply(AstBuilder.scala:411)\n\tat org.apache.spark.sql.catalyst.parser.AstBuilder$$anonfun$org$apache$spark$sql$catalyst$parser$AstBuilder$$withQuerySpecification$1.apply(AstBuilder.scala:389)\n\tat org.apache.spark.sql.catalyst.parser.ParserUtils$.withOrigin(ParserUtils.scala:108)\n\tat org.apache.spark.sql.catalyst.parser.AstBuilder.org$apache$spark$sql$catalyst$parser$AstBuilder$$withQuerySpecification(AstBuilder.scala:389)\n\tat org.apache.spark.sql.catalyst.parser.AstBuilder$$anonfun$visitQuerySpecification$1.apply(AstBuilder.scala:377)\n\tat org.apache.spark.sql.catalyst.parser.AstBuilder$$anonfun$visitQuerySpecification$1.apply(AstBuilder.scala:373)\n\tat org.apache.spark.sql.catalyst.parser.ParserUtils$.withOrigin(ParserUtils.scala:108)\n\tat org.apache.spark.sql.catalyst.parser.AstBuilder.visitQuerySpecification(AstBuilder.scala:373)\n\tat org.apache.spark.sql.catalyst.parser.AstBuilder.visitQuerySpecification(AstBuilder.scala:49)\n\tat org.apache.spark.sql.catalyst.parser.SqlBaseParser$QuerySpecificationContext.accept(SqlBaseParser.java:8081)\n\tat org.apache.spark.sql.catalyst.parser.AstBuilder.visitChildren(AstBuilder.scala:65)\n\tat org.apache.spark.sql.catalyst.parser.SqlBaseBaseVisitor.visitQueryPrimaryDefault(SqlBaseBaseVisitor.java:657)\n\tat org.apache.spark.sql.catalyst.parser.SqlBaseParser$QueryPrimaryDefaultContext.accept(SqlBaseParser.java:7798)\n\tat org.apache.spark.sql.catalyst.parser.AstBuilder.visitChildren(AstBuilder.scala:65)\n\tat org.apache.spark.sql.catalyst.parser.SqlBaseBaseVisitor.visitQueryTermDefault(SqlBaseBaseVisitor.java:643)\n\tat org.apache.spark.sql.catalyst.parser.SqlBaseParser$QueryTermDefaultContext.accept(SqlBaseParser.java:7567)\n\tat org.apache.spark.sql.catalyst.parser.AstBuilder.typedVisit(AstBuilder.scala:55)\n\tat org.apache.spark.sql.catalyst.parser.AstBuilder.plan(AstBuilder.scala:100)\n\tat org.apache.spark.sql.catalyst.parser.AstBuilder$$anonfun$visitSingleInsertQuery$1.apply(AstBuilder.scala:174)\n\tat org.apache.spark.sql.catalyst.parser.AstBuilder$$anonfun$visitSingleInsertQuery$1.apply(AstBuilder.scala:178)\n\tat org.apache.spark.sql.catalyst.parser.ParserUtils$.withOrigin(ParserUtils.scala:108)\n\tat org.apache.spark.sql.catalyst.parser.AstBuilder.visitSingleInsertQuery(AstBuilder.scala:173)\n\tat org.apache.spark.sql.catalyst.parser.AstBuilder.visitSingleInsertQuery(AstBuilder.scala:49)\n\tat org.apache.spark.sql.catalyst.parser.SqlBaseParser$SingleInsertQueryContext.accept(SqlBaseParser.java:7149)\n\tat org.apache.spark.sql.catalyst.parser.AstBuilder.typedVisit(AstBuilder.scala:55)\n\tat org.apache.spark.sql.catalyst.parser.AstBuilder.plan(AstBuilder.scala:100)\n\tat org.apache.spark.sql.catalyst.parser.AstBuilder$$anonfun$visitQuery$1.apply(AstBuilder.scala:106)\n\tat org.apache.spark.sql.catalyst.parser.AstBuilder$$anonfun$visitQuery$1.apply(AstBuilder.scala:105)\n\tat org.apache.spark.sql.catalyst.parser.ParserUtils$.withOrigin(ParserUtils.scala:108)\n\tat org.apache.spark.sql.catalyst.parser.AstBuilder.visitQuery(AstBuilder.scala:105)\n\tat org.apache.spark.sql.catalyst.parser.AstBuilder.visitQuery(AstBuilder.scala:49)\n\tat org.apache.spark.sql.catalyst.parser.SqlBaseParser$QueryContext.accept(SqlBaseParser.java:5331)\n\tat org.apache.spark.sql.catalyst.parser.AstBuilder.visitChildren(AstBuilder.scala:65)\n\tat org.apache.spark.sql.catalyst.parser.SqlBaseBaseVisitor.visitStatementDefault(SqlBaseBaseVisitor.java:62)\n\tat org.apache.spark.sql.catalyst.parser.SqlBaseParser$StatementDefaultContext.accept(SqlBaseParser.java:1633)\n\tat org.antlr.v4.runtime.tree.AbstractParseTreeVisitor.visit(AbstractParseTreeVisitor.java:18)\n\tat org.apache.spark.sql.catalyst.parser.AstBuilder$$anonfun$visitSingleStatement$1.apply(AstBuilder.scala:72)\n\tat org.apache.spark.sql.catalyst.parser.AstBuilder$$anonfun$visitSingleStatement$1.apply(AstBuilder.scala:72)\n\tat org.apache.spark.sql.catalyst.parser.ParserUtils$.withOrigin(ParserUtils.scala:108)\n\tat org.apache.spark.sql.catalyst.parser.AstBuilder.visitSingleStatement(AstBuilder.scala:71)\n\tat org.apache.spark.sql.catalyst.parser.AbstractSqlParser$$anonfun$parsePlan$1.apply(ParseDriver.scala:70)\n\tat org.apache.spark.sql.catalyst.parser.AbstractSqlParser$$anonfun$parsePlan$1.apply(ParseDriver.scala:69)\n\tat org.apache.spark.sql.catalyst.parser.AbstractSqlParser.parse(ParseDriver.scala:100)\n\tat org.apache.spark.sql.execution.SparkSqlParser.parse(SparkSqlParser.scala:48)\n\tat org.apache.spark.sql.catalyst.parser.AbstractSqlParser.parsePlan(ParseDriver.scala:69)\n\tat org.apache.spark.sql.SparkSession.sql(SparkSession.scala:642)\n\tat sun.reflect.GeneratedMethodAccessor99.invoke(Unknown Source)\n\tat sun.reflect.DelegatingMethodAccessorImpl.invoke(DelegatingMethodAccessorImpl.java:43)\n\tat java.lang.reflect.Method.invoke(Method.java:498)\n\tat py4j.reflection.MethodInvoker.invoke(MethodInvoker.java:244)\n\tat py4j.reflection.ReflectionEngine.invoke(ReflectionEngine.java:357)\n\tat py4j.Gateway.invoke(Gateway.java:282)\n\tat py4j.commands.AbstractCommand.invokeMethod(AbstractCommand.java:132)\n\tat py4j.commands.CallCommand.execute(CallCommand.java:79)\n\tat py4j.GatewayConnection.run(GatewayConnection.java:238)\n\tat java.lang.Thread.run(Thread.java:748)\n",
      "\nDuring handling of the above exception, another exception occurred:\n",
      "\u001b[0;31mParseException\u001b[0m                            Traceback (most recent call last)",
      "\u001b[0;32m<ipython-input-282-6386db52334b>\u001b[0m in \u001b[0;36m<module>\u001b[0;34m()\u001b[0m\n\u001b[1;32m      9\u001b[0m         \u001b[0;34m,\u001b[0m\u001b[0msearch_type\u001b[0m\u001b[0;34m\u001b[0m\u001b[0;34m\u001b[0m\u001b[0m\n\u001b[1;32m     10\u001b[0m     \u001b[0mFROM\u001b[0m \u001b[0mtb_stage\u001b[0m\u001b[0;34m\u001b[0m\u001b[0;34m\u001b[0m\u001b[0m\n\u001b[0;32m---> 11\u001b[0;31m ''')\n\u001b[0m",
      "\u001b[0;32m/opt/spark/python/pyspark/sql/session.py\u001b[0m in \u001b[0;36msql\u001b[0;34m(self, sqlQuery)\u001b[0m\n\u001b[1;32m    765\u001b[0m         \u001b[0;34m[\u001b[0m\u001b[0mRow\u001b[0m\u001b[0;34m(\u001b[0m\u001b[0mf1\u001b[0m\u001b[0;34m=\u001b[0m\u001b[0;36m1\u001b[0m\u001b[0;34m,\u001b[0m \u001b[0mf2\u001b[0m\u001b[0;34m=\u001b[0m\u001b[0;34mu'row1'\u001b[0m\u001b[0;34m)\u001b[0m\u001b[0;34m,\u001b[0m \u001b[0mRow\u001b[0m\u001b[0;34m(\u001b[0m\u001b[0mf1\u001b[0m\u001b[0;34m=\u001b[0m\u001b[0;36m2\u001b[0m\u001b[0;34m,\u001b[0m \u001b[0mf2\u001b[0m\u001b[0;34m=\u001b[0m\u001b[0;34mu'row2'\u001b[0m\u001b[0;34m)\u001b[0m\u001b[0;34m,\u001b[0m \u001b[0mRow\u001b[0m\u001b[0;34m(\u001b[0m\u001b[0mf1\u001b[0m\u001b[0;34m=\u001b[0m\u001b[0;36m3\u001b[0m\u001b[0;34m,\u001b[0m \u001b[0mf2\u001b[0m\u001b[0;34m=\u001b[0m\u001b[0;34mu'row3'\u001b[0m\u001b[0;34m)\u001b[0m\u001b[0;34m]\u001b[0m\u001b[0;34m\u001b[0m\u001b[0;34m\u001b[0m\u001b[0m\n\u001b[1;32m    766\u001b[0m         \"\"\"\n\u001b[0;32m--> 767\u001b[0;31m         \u001b[0;32mreturn\u001b[0m \u001b[0mDataFrame\u001b[0m\u001b[0;34m(\u001b[0m\u001b[0mself\u001b[0m\u001b[0;34m.\u001b[0m\u001b[0m_jsparkSession\u001b[0m\u001b[0;34m.\u001b[0m\u001b[0msql\u001b[0m\u001b[0;34m(\u001b[0m\u001b[0msqlQuery\u001b[0m\u001b[0;34m)\u001b[0m\u001b[0;34m,\u001b[0m \u001b[0mself\u001b[0m\u001b[0;34m.\u001b[0m\u001b[0m_wrapped\u001b[0m\u001b[0;34m)\u001b[0m\u001b[0;34m\u001b[0m\u001b[0;34m\u001b[0m\u001b[0m\n\u001b[0m\u001b[1;32m    768\u001b[0m \u001b[0;34m\u001b[0m\u001b[0m\n\u001b[1;32m    769\u001b[0m     \u001b[0;34m@\u001b[0m\u001b[0msince\u001b[0m\u001b[0;34m(\u001b[0m\u001b[0;36m2.0\u001b[0m\u001b[0;34m)\u001b[0m\u001b[0;34m\u001b[0m\u001b[0;34m\u001b[0m\u001b[0m\n",
      "\u001b[0;32m/opt/spark/python/lib/py4j-0.10.7-src.zip/py4j/java_gateway.py\u001b[0m in \u001b[0;36m__call__\u001b[0;34m(self, *args)\u001b[0m\n\u001b[1;32m   1255\u001b[0m         \u001b[0manswer\u001b[0m \u001b[0;34m=\u001b[0m \u001b[0mself\u001b[0m\u001b[0;34m.\u001b[0m\u001b[0mgateway_client\u001b[0m\u001b[0;34m.\u001b[0m\u001b[0msend_command\u001b[0m\u001b[0;34m(\u001b[0m\u001b[0mcommand\u001b[0m\u001b[0;34m)\u001b[0m\u001b[0;34m\u001b[0m\u001b[0;34m\u001b[0m\u001b[0m\n\u001b[1;32m   1256\u001b[0m         return_value = get_return_value(\n\u001b[0;32m-> 1257\u001b[0;31m             answer, self.gateway_client, self.target_id, self.name)\n\u001b[0m\u001b[1;32m   1258\u001b[0m \u001b[0;34m\u001b[0m\u001b[0m\n\u001b[1;32m   1259\u001b[0m         \u001b[0;32mfor\u001b[0m \u001b[0mtemp_arg\u001b[0m \u001b[0;32min\u001b[0m \u001b[0mtemp_args\u001b[0m\u001b[0;34m:\u001b[0m\u001b[0;34m\u001b[0m\u001b[0;34m\u001b[0m\u001b[0m\n",
      "\u001b[0;32m/opt/spark/python/pyspark/sql/utils.py\u001b[0m in \u001b[0;36mdeco\u001b[0;34m(*a, **kw)\u001b[0m\n\u001b[1;32m     71\u001b[0m                 \u001b[0;32mraise\u001b[0m \u001b[0mAnalysisException\u001b[0m\u001b[0;34m(\u001b[0m\u001b[0ms\u001b[0m\u001b[0;34m.\u001b[0m\u001b[0msplit\u001b[0m\u001b[0;34m(\u001b[0m\u001b[0;34m': '\u001b[0m\u001b[0;34m,\u001b[0m \u001b[0;36m1\u001b[0m\u001b[0;34m)\u001b[0m\u001b[0;34m[\u001b[0m\u001b[0;36m1\u001b[0m\u001b[0;34m]\u001b[0m\u001b[0;34m,\u001b[0m \u001b[0mstackTrace\u001b[0m\u001b[0;34m)\u001b[0m\u001b[0;34m\u001b[0m\u001b[0;34m\u001b[0m\u001b[0m\n\u001b[1;32m     72\u001b[0m             \u001b[0;32mif\u001b[0m \u001b[0ms\u001b[0m\u001b[0;34m.\u001b[0m\u001b[0mstartswith\u001b[0m\u001b[0;34m(\u001b[0m\u001b[0;34m'org.apache.spark.sql.catalyst.parser.ParseException: '\u001b[0m\u001b[0;34m)\u001b[0m\u001b[0;34m:\u001b[0m\u001b[0;34m\u001b[0m\u001b[0;34m\u001b[0m\u001b[0m\n\u001b[0;32m---> 73\u001b[0;31m                 \u001b[0;32mraise\u001b[0m \u001b[0mParseException\u001b[0m\u001b[0;34m(\u001b[0m\u001b[0ms\u001b[0m\u001b[0;34m.\u001b[0m\u001b[0msplit\u001b[0m\u001b[0;34m(\u001b[0m\u001b[0;34m': '\u001b[0m\u001b[0;34m,\u001b[0m \u001b[0;36m1\u001b[0m\u001b[0;34m)\u001b[0m\u001b[0;34m[\u001b[0m\u001b[0;36m1\u001b[0m\u001b[0;34m]\u001b[0m\u001b[0;34m,\u001b[0m \u001b[0mstackTrace\u001b[0m\u001b[0;34m)\u001b[0m\u001b[0;34m\u001b[0m\u001b[0;34m\u001b[0m\u001b[0m\n\u001b[0m\u001b[1;32m     74\u001b[0m             \u001b[0;32mif\u001b[0m \u001b[0ms\u001b[0m\u001b[0;34m.\u001b[0m\u001b[0mstartswith\u001b[0m\u001b[0;34m(\u001b[0m\u001b[0;34m'org.apache.spark.sql.streaming.StreamingQueryException: '\u001b[0m\u001b[0;34m)\u001b[0m\u001b[0;34m:\u001b[0m\u001b[0;34m\u001b[0m\u001b[0;34m\u001b[0m\u001b[0m\n\u001b[1;32m     75\u001b[0m                 \u001b[0;32mraise\u001b[0m \u001b[0mStreamingQueryException\u001b[0m\u001b[0;34m(\u001b[0m\u001b[0ms\u001b[0m\u001b[0;34m.\u001b[0m\u001b[0msplit\u001b[0m\u001b[0;34m(\u001b[0m\u001b[0;34m': '\u001b[0m\u001b[0;34m,\u001b[0m \u001b[0;36m1\u001b[0m\u001b[0;34m)\u001b[0m\u001b[0;34m[\u001b[0m\u001b[0;36m1\u001b[0m\u001b[0;34m]\u001b[0m\u001b[0;34m,\u001b[0m \u001b[0mstackTrace\u001b[0m\u001b[0;34m)\u001b[0m\u001b[0;34m\u001b[0m\u001b[0;34m\u001b[0m\u001b[0m\n",
      "\u001b[0;31mParseException\u001b[0m: '\\nLiterals of type \\'BUSINESS_FAMILY\\' are currently not supported.(line 3, pos 9)\\n\\n== SQL ==\\n\\n    SELECT DISTINCT key_cliente\\n        ,business_family \"Business Family\"\\n---------^^^\\n        ,customer \"Customer\"\\n        ,customer_type \"Custome Type\"\\n        ,line_of_business\\n        ,regional_sales_mgr\\n        ,search_type\\n    FROM tb_stage    \\n'"
     ]
    }
   ],
   "source": [
    "#DIM_CLIENTES\n",
    "dim_clientes = spark.sql('''\n",
    "    SELECT DISTINCT key_cliente\n",
    "        ,business_family \"Business Family\"\n",
    "        ,customer \"Customer\"\n",
    "        ,customer_type \"Custome Type\"\n",
    "        ,line_of_business\n",
    "        ,regional_sales_mgr\n",
    "        ,search_type\n",
    "    FROM tb_stage    \n",
    "''')"
   ]
  },
  {
   "cell_type": "code",
   "execution_count": null,
   "metadata": {},
   "outputs": [],
   "source": []
  }
 ],
 "metadata": {
  "kernelspec": {
   "display_name": "PySpark",
   "language": "python",
   "name": "pyspark"
  },
  "language_info": {
   "codemirror_mode": {
    "name": "ipython",
    "version": 3
   },
   "file_extension": ".py",
   "mimetype": "text/x-python",
   "name": "python",
   "nbconvert_exporter": "python",
   "pygments_lexer": "ipython3",
   "version": "3.6.10"
  }
 },
 "nbformat": 4,
 "nbformat_minor": 2
}
