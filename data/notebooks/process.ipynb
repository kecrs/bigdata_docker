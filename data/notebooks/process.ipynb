{
 "cells": [
  {
   "cell_type": "code",
   "execution_count": 1,
   "metadata": {},
   "outputs": [],
   "source": [
    "from pyspark.sql import SparkSession, dataframe, Row\n",
    "from pyspark.sql.types import StructType, StructField\n",
    "from pyspark.sql.types import DoubleType, IntegerType, StringType\n",
    "from pyspark.sql import HiveContext\n",
    "from pyspark.sql.functions import *\n",
    "from pyspark.sql import functions as f\n",
    "from pyspark.sql.functions import col,trim,ltrim,rtrim,when,regexp_replace\n",
    "\n",
    "import os\n",
    "import re "
   ]
  },
  {
   "cell_type": "code",
   "execution_count": 2,
   "metadata": {},
   "outputs": [],
   "source": [
    "#sessão do spark com o Hive\n",
    "#spark = SparkSession.builder.master(\"local[*]\")\\\n",
    "#    .enableHiveSupport()\\\n",
    "#    .getOrCreate()"
   ]
  },
  {
   "cell_type": "code",
   "execution_count": 21,
   "metadata": {},
   "outputs": [],
   "source": [
    "#Iniciando o tratamento dos dados\n",
    "df_clientes = spark.sql(\"select * from desafio_curso.tbl_clientes\")"
   ]
  },
  {
   "cell_type": "code",
   "execution_count": 23,
   "metadata": {},
   "outputs": [],
   "source": [
    "#Convertendo os tipos de dados\n",
    "df_clientes = df_clientes.withColumn(\"address_number\",col(\"address_number\").cast(IntegerType()))\\\n",
    "        .withColumn(\"business_unit\",col(\"business_unit\").cast(IntegerType()))\\\n",
    "        .withColumn(\"customerkey\",col(\"customerkey\").cast(IntegerType()))\\\n",
    "        .withColumn(\"division\",col(\"division\").cast(IntegerType()))\\\n",
    "        .withColumn(\"region_code\",col(\"region_code\").cast(IntegerType()))"
   ]
  },
  {
   "cell_type": "code",
   "execution_count": 25,
   "metadata": {},
   "outputs": [],
   "source": [
    "#Tratando as colunas vazias\n",
    "df_clientes = df_clientes.withColumn('line_of_business', regexp_replace('line_of_business', '   ', 'Não informado'))"
   ]
  },
  {
   "cell_type": "code",
   "execution_count": 26,
   "metadata": {},
   "outputs": [],
   "source": [
    "df_clientes.createOrReplaceTempView('tb_clientes')"
   ]
  },
  {
   "cell_type": "code",
   "execution_count": 28,
   "metadata": {},
   "outputs": [],
   "source": [
    "df_divisao = spark.sql(\"select * from desafio_curso.tbl_divisao\")"
   ]
  },
  {
   "cell_type": "code",
   "execution_count": 30,
   "metadata": {},
   "outputs": [],
   "source": [
    "df_divisao = df_divisao.withColumn(\"division\",col(\"division\").cast(IntegerType()))"
   ]
  },
  {
   "cell_type": "code",
   "execution_count": 31,
   "metadata": {},
   "outputs": [],
   "source": [
    "df_divisao.createOrReplaceTempView('tb_divisao')"
   ]
  },
  {
   "cell_type": "code",
   "execution_count": 32,
   "metadata": {},
   "outputs": [],
   "source": [
    "df_endereco = spark.sql(\"select * from desafio_curso.tbl_endereco\")"
   ]
  },
  {
   "cell_type": "code",
   "execution_count": 33,
   "metadata": {},
   "outputs": [
    {
     "name": "stdout",
     "output_type": "stream",
     "text": [
      "root\n",
      " |-- address_number: string (nullable = true)\n",
      " |-- city: string (nullable = true)\n",
      " |-- country: string (nullable = true)\n",
      " |-- customer_address_1: string (nullable = true)\n",
      " |-- customer_address_2: string (nullable = true)\n",
      " |-- customer_address_3: string (nullable = true)\n",
      " |-- customer_address_4: string (nullable = true)\n",
      " |-- state: string (nullable = true)\n",
      " |-- zip_code: string (nullable = true)\n",
      " |-- dt_foto: string (nullable = true)\n",
      "\n"
     ]
    }
   ],
   "source": [
    "df_endereco.printSchema()"
   ]
  },
  {
   "cell_type": "code",
   "execution_count": 6,
   "metadata": {},
   "outputs": [],
   "source": [
    "df_regiao = spark.sql(\"select * from desafio_curso.tbl_regiao\")"
   ]
  },
  {
   "cell_type": "code",
   "execution_count": 7,
   "metadata": {},
   "outputs": [],
   "source": [
    "df_vendas = spark.sql(\"select * from desafio_curso.tbl_vendas\")"
   ]
  },
  {
   "cell_type": "code",
   "execution_count": null,
   "metadata": {},
   "outputs": [],
   "source": []
  }
 ],
 "metadata": {
  "kernelspec": {
   "display_name": "PySpark",
   "language": "python",
   "name": "pyspark"
  },
  "language_info": {
   "codemirror_mode": {
    "name": "ipython",
    "version": 3
   },
   "file_extension": ".py",
   "mimetype": "text/x-python",
   "name": "python",
   "nbconvert_exporter": "python",
   "pygments_lexer": "ipython3",
   "version": "3.6.10"
  }
 },
 "nbformat": 4,
 "nbformat_minor": 2
}
