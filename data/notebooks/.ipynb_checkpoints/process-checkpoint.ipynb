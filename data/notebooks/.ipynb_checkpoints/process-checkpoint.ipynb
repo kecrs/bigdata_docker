{
 "cells": [
  {
   "cell_type": "code",
   "execution_count": 99,
   "metadata": {},
   "outputs": [],
   "source": [
    "from pyspark.sql import SparkSession, dataframe, Row\n",
    "from pyspark.sql.types import StructType, StructField\n",
    "from pyspark.sql.types import DoubleType, IntegerType, StringType\n",
    "from pyspark.sql import HiveContext\n",
    "from pyspark.sql.functions import *\n",
    "from pyspark.sql import functions as f\n",
    "from pyspark.sql.functions import col,trim,ltrim,rtrim,when,regexp_replace,concat_ws, lit, sha2\n",
    "\n",
    "import os\n",
    "import re "
   ]
  },
  {
   "cell_type": "code",
   "execution_count": 100,
   "metadata": {},
   "outputs": [],
   "source": [
    "#sessão do spark com o Hive\n",
    "#spark = SparkSession.builder.master(\"local[*]\")\\\n",
    "#    .enableHiveSupport()\\\n",
    "#    .getOrCreate()"
   ]
  },
  {
   "cell_type": "code",
   "execution_count": 101,
   "metadata": {},
   "outputs": [],
   "source": [
    "#Iniciando o tratamento dos dados\n",
    "df_clientes = spark.sql(\"select * from desafio_curso.tbl_clientes\")"
   ]
  },
  {
   "cell_type": "code",
   "execution_count": 102,
   "metadata": {},
   "outputs": [],
   "source": [
    "#Convertendo os tipos de dados\n",
    "df_clientes = df_clientes.withColumn(\"address_number\",col(\"address_number\").cast(IntegerType()))\\\n",
    "        .withColumn(\"business_unit\",col(\"business_unit\").cast(IntegerType()))\\\n",
    "        .withColumn(\"customerkey\",col(\"customerkey\").cast(IntegerType()))\\\n",
    "        .withColumn(\"division\",col(\"division\").cast(IntegerType()))\\\n",
    "        .withColumn(\"region_code\",col(\"region_code\").cast(IntegerType()))"
   ]
  },
  {
   "cell_type": "code",
   "execution_count": 103,
   "metadata": {},
   "outputs": [],
   "source": [
    "#Tratando as colunas vazias\n",
    "df_clientes = df_clientes.withColumn('line_of_business', regexp_replace('line_of_business', '   ', 'N/I'))"
   ]
  },
  {
   "cell_type": "code",
   "execution_count": 104,
   "metadata": {},
   "outputs": [
    {
     "data": {
      "text/plain": [
       "684"
      ]
     },
     "execution_count": 104,
     "metadata": {},
     "output_type": "execute_result"
    }
   ],
   "source": [
    "df_clientes.count()"
   ]
  },
  {
   "cell_type": "code",
   "execution_count": 105,
   "metadata": {},
   "outputs": [
    {
     "data": {
      "text/plain": [
       "684"
      ]
     },
     "execution_count": 105,
     "metadata": {},
     "output_type": "execute_result"
    }
   ],
   "source": [
    "#Removendo tuplas duplicadas\n",
    "df_clientes = df_clientes.distinct()\n",
    "df_clientes.count()"
   ]
  },
  {
   "cell_type": "code",
   "execution_count": 106,
   "metadata": {},
   "outputs": [
    {
     "name": "stdout",
     "output_type": "stream",
     "text": [
      "root\n",
      " |-- address_number: integer (nullable = true)\n",
      " |-- business_family: string (nullable = true)\n",
      " |-- business_unit: integer (nullable = true)\n",
      " |-- customer: string (nullable = true)\n",
      " |-- customerkey: integer (nullable = true)\n",
      " |-- customer_type: string (nullable = true)\n",
      " |-- division: integer (nullable = true)\n",
      " |-- line_of_business: string (nullable = true)\n",
      " |-- phone: string (nullable = true)\n",
      " |-- region_code: integer (nullable = true)\n",
      " |-- regional_sales_mgr: string (nullable = true)\n",
      " |-- search_type: string (nullable = true)\n",
      " |-- dt_foto: string (nullable = true)\n",
      "\n"
     ]
    }
   ],
   "source": [
    "df_clientes.printSchema()"
   ]
  },
  {
   "cell_type": "code",
   "execution_count": 107,
   "metadata": {},
   "outputs": [],
   "source": [
    "df_clientes.createOrReplaceTempView('tb_clientes')"
   ]
  },
  {
   "cell_type": "code",
   "execution_count": 108,
   "metadata": {},
   "outputs": [],
   "source": [
    "df_divisao = spark.sql(\"select * from desafio_curso.tbl_divisao\")"
   ]
  },
  {
   "cell_type": "code",
   "execution_count": 109,
   "metadata": {},
   "outputs": [],
   "source": [
    "df_divisao = df_divisao.withColumn(\"division\",col(\"division\").cast(IntegerType()))"
   ]
  },
  {
   "cell_type": "code",
   "execution_count": 110,
   "metadata": {},
   "outputs": [],
   "source": [
    "df_divisao.createOrReplaceTempView('tb_divisao')"
   ]
  },
  {
   "cell_type": "code",
   "execution_count": 111,
   "metadata": {},
   "outputs": [],
   "source": [
    "df_endereco = spark.sql(\"select * from desafio_curso.tbl_endereco\")"
   ]
  },
  {
   "cell_type": "code",
   "execution_count": 112,
   "metadata": {},
   "outputs": [
    {
     "name": "stdout",
     "output_type": "stream",
     "text": [
      "root\n",
      " |-- address_number: string (nullable = true)\n",
      " |-- city: string (nullable = true)\n",
      " |-- country: string (nullable = true)\n",
      " |-- customer_address_1: string (nullable = true)\n",
      " |-- customer_address_2: string (nullable = true)\n",
      " |-- customer_address_3: string (nullable = true)\n",
      " |-- customer_address_4: string (nullable = true)\n",
      " |-- state: string (nullable = true)\n",
      " |-- zip_code: string (nullable = true)\n",
      " |-- dt_foto: string (nullable = true)\n",
      "\n"
     ]
    }
   ],
   "source": [
    "df_endereco.printSchema()"
   ]
  },
  {
   "cell_type": "code",
   "execution_count": 113,
   "metadata": {},
   "outputs": [],
   "source": [
    "#Convertendo os tipos de dados\n",
    "df_endereco = df_endereco.withColumn(\"address_number\",col(\"address_number\").cast(IntegerType()))"
   ]
  },
  {
   "cell_type": "code",
   "execution_count": 114,
   "metadata": {},
   "outputs": [],
   "source": [
    "#Tratando as colunas vazias\n",
    "df_endereco = df_endereco.withColumn('city', regexp_replace('city', '                        ', 'N/I'))\\\n",
    "            .withColumn('customer_address_1', regexp_replace('customer_address_1', '                                       ', 'N/I'))\\\n",
    "            .withColumn('customer_address_2', regexp_replace('customer_address_2', '                                       ', 'N/I'))\\\n",
    "            .withColumn('customer_address_3', regexp_replace('customer_address_3', '                                       ', 'N/I'))\\\n",
    "            .withColumn('customer_address_4', regexp_replace('customer_address_4', '                                       ', 'N/I'))\\\n",
    "            .withColumn('zip_code', regexp_replace('zip_code', '            ', 'N/I'))\n",
    "df_endereco = df_endereco.select([when(col(c)==\"\",None).otherwise(col(c)).alias(c) for c in df_endereco.columns])\n",
    "df_endereco = df_endereco.na.fill(\"N/I\")"
   ]
  },
  {
   "cell_type": "code",
   "execution_count": 115,
   "metadata": {},
   "outputs": [],
   "source": [
    "df_endereco.createOrReplaceTempView('tb_endereco')"
   ]
  },
  {
   "cell_type": "code",
   "execution_count": 116,
   "metadata": {},
   "outputs": [],
   "source": [
    "df_regiao = spark.sql(\"select * from desafio_curso.tbl_regiao\")"
   ]
  },
  {
   "cell_type": "code",
   "execution_count": 117,
   "metadata": {},
   "outputs": [
    {
     "name": "stdout",
     "output_type": "stream",
     "text": [
      "root\n",
      " |-- region_code: string (nullable = true)\n",
      " |-- region_name: string (nullable = true)\n",
      " |-- dt_foto: string (nullable = true)\n",
      "\n"
     ]
    }
   ],
   "source": [
    "df_regiao.printSchema()"
   ]
  },
  {
   "cell_type": "code",
   "execution_count": 118,
   "metadata": {},
   "outputs": [],
   "source": [
    "#Convertendo os tipos de dados\n",
    "df_regiao = df_regiao.withColumn(\"region_code\",col(\"region_code\").cast(IntegerType()))"
   ]
  },
  {
   "cell_type": "code",
   "execution_count": 119,
   "metadata": {},
   "outputs": [],
   "source": [
    "df_regiao.createOrReplaceTempView('tb_regiao')"
   ]
  },
  {
   "cell_type": "code",
   "execution_count": 120,
   "metadata": {},
   "outputs": [],
   "source": [
    "df_vendas = spark.sql(\"select * from desafio_curso.tbl_vendas\")"
   ]
  },
  {
   "cell_type": "code",
   "execution_count": 121,
   "metadata": {},
   "outputs": [
    {
     "name": "stdout",
     "output_type": "stream",
     "text": [
      "root\n",
      " |-- actual_delivery_date: string (nullable = true)\n",
      " |-- customerkey: string (nullable = true)\n",
      " |-- datekey: string (nullable = true)\n",
      " |-- discount_amount: string (nullable = true)\n",
      " |-- invoice_date: string (nullable = true)\n",
      " |-- invoice_number: string (nullable = true)\n",
      " |-- item_class: string (nullable = true)\n",
      " |-- item_number: string (nullable = true)\n",
      " |-- item: string (nullable = true)\n",
      " |-- line_number: string (nullable = true)\n",
      " |-- list_price: string (nullable = true)\n",
      " |-- order_number: string (nullable = true)\n",
      " |-- promised_delivery_date: string (nullable = true)\n",
      " |-- sales_amount: string (nullable = true)\n",
      " |-- sales_amount_based_on_list_price: string (nullable = true)\n",
      " |-- sales_cost_amount: string (nullable = true)\n",
      " |-- sales_margin_amount: string (nullable = true)\n",
      " |-- sales_price: string (nullable = true)\n",
      " |-- sales_quantity: string (nullable = true)\n",
      " |-- sales_rep: string (nullable = true)\n",
      " |-- u_m: string (nullable = true)\n",
      " |-- dt_foto: string (nullable = true)\n",
      "\n"
     ]
    }
   ],
   "source": [
    "df_vendas.printSchema()"
   ]
  },
  {
   "cell_type": "code",
   "execution_count": 122,
   "metadata": {},
   "outputs": [],
   "source": [
    "#Convertendo os tipos de dados\n",
    "df_vendas = df_vendas.withColumn(\"customerkey\",col(\"customerkey\").cast(IntegerType()))\\\n",
    "        .withColumn(\"discount_amount\",col(\"discount_amount\").cast(DoubleType()))\\\n",
    "        .withColumn(\"invoice_number\",col(\"invoice_number\").cast(IntegerType()))\\\n",
    "        .withColumn(\"item_number\",col(\"item_number\").cast(IntegerType()))\\\n",
    "        .withColumn(\"line_number\",col(\"item_number\").cast(IntegerType()))\\\n",
    "        .withColumn(\"list_price\",col(\"list_price\").cast(DoubleType()))\\\n",
    "        .withColumn(\"order_number\",col(\"order_number\").cast(IntegerType()))\\\n",
    "        .withColumn(\"sales_amount\",col(\"sales_amount\").cast(DoubleType()))\\\n",
    "        .withColumn(\"sales_amount_based_on_list_price\",col(\"sales_amount_based_on_list_price\").cast(DoubleType()))\\\n",
    "        .withColumn(\"sales_cost_amount\",col(\"sales_cost_amount\").cast(DoubleType()))\\\n",
    "        .withColumn(\"sales_margin_amount\",col(\"sales_margin_amount\").cast(DoubleType()))\\\n",
    "        .withColumn(\"sales_price\",col(\"sales_price\").cast(DoubleType()))\\\n",
    "        .withColumn(\"sales_quantity\",col(\"sales_quantity\").cast(IntegerType()))\\\n",
    "        .withColumn(\"sales_rep\",col(\"sales_rep\").cast(IntegerType()))\n",
    "df_vendas = df_vendas.select('discount_amount',\n",
    "                             'invoice_number',\n",
    "                             'item_class',\n",
    "                             'item_number',\n",
    "                             'item',\n",
    "                             'line_number',\n",
    "                             'list_price',\n",
    "                             'order_number',\n",
    "                             'sales_amount',\n",
    "                             'sales_amount_based_on_list_price',\n",
    "                             'sales_cost_amount',\n",
    "                             'sales_margin_amount',\n",
    "                             'sales_price',\n",
    "                             'sales_quantity',\n",
    "                             'sales_rep',\n",
    "                             'u_m', \n",
    "                             'customerkey',\n",
    "                             'dt_foto',\n",
    "                             from_unixtime(unix_timestamp('actual_delivery_date', 'dd/MM/yyy')).alias('actual_delivery_date'),\n",
    "                             from_unixtime(unix_timestamp('invoice_date', 'dd/MM/yyy')).alias('invoice_date'),\n",
    "                             from_unixtime(unix_timestamp('promised_delivery_date', 'dd/MM/yyy')).alias('promised_delivery_date'),\n",
    "                             from_unixtime(unix_timestamp('datekey', 'dd/MM/yyy')).alias('datekey')\n",
    "                            )\n"
   ]
  },
  {
   "cell_type": "code",
   "execution_count": 123,
   "metadata": {},
   "outputs": [],
   "source": [
    "#Tratando as colunas vazias\n",
    "df_vendas = df_vendas.na.fill(value=0)\n",
    "df_vendas = df_vendas.select([when(col(c)==\"\",None).otherwise(col(c)).alias(c) for c in df_vendas.columns])\n",
    "df_vendas = df_vendas.na.fill(\"N/I\")\n",
    "df_vendas = df_vendas.withColumn(\"datekey\",to_timestamp(col(\"datekey\")))\n",
    "df_vendas = df_vendas.withColumn(\"promised_delivery_date\",to_timestamp(col(\"promised_delivery_date\")))\n",
    "df_vendas = df_vendas.withColumn(\"invoice_date\",to_timestamp(col(\"invoice_date\")))\n",
    "df_vendas = df_vendas.withColumn(\"actual_delivery_date\",to_timestamp(col(\"actual_delivery_date\")))"
   ]
  },
  {
   "cell_type": "code",
   "execution_count": 124,
   "metadata": {},
   "outputs": [
    {
     "name": "stdout",
     "output_type": "stream",
     "text": [
      "root\n",
      " |-- discount_amount: double (nullable = true)\n",
      " |-- invoice_number: integer (nullable = true)\n",
      " |-- item_class: string (nullable = false)\n",
      " |-- item_number: integer (nullable = true)\n",
      " |-- item: string (nullable = false)\n",
      " |-- line_number: integer (nullable = true)\n",
      " |-- list_price: double (nullable = true)\n",
      " |-- order_number: integer (nullable = true)\n",
      " |-- sales_amount: double (nullable = true)\n",
      " |-- sales_amount_based_on_list_price: double (nullable = true)\n",
      " |-- sales_cost_amount: double (nullable = true)\n",
      " |-- sales_margin_amount: double (nullable = true)\n",
      " |-- sales_price: double (nullable = true)\n",
      " |-- sales_quantity: integer (nullable = true)\n",
      " |-- sales_rep: integer (nullable = true)\n",
      " |-- u_m: string (nullable = false)\n",
      " |-- customerkey: integer (nullable = true)\n",
      " |-- dt_foto: string (nullable = false)\n",
      " |-- actual_delivery_date: timestamp (nullable = true)\n",
      " |-- invoice_date: timestamp (nullable = true)\n",
      " |-- promised_delivery_date: timestamp (nullable = true)\n",
      " |-- datekey: timestamp (nullable = true)\n",
      "\n"
     ]
    }
   ],
   "source": [
    "df_vendas.printSchema()"
   ]
  },
  {
   "cell_type": "code",
   "execution_count": 125,
   "metadata": {},
   "outputs": [],
   "source": [
    "df_vendas.createOrReplaceTempView('tb_vendas')"
   ]
  },
  {
   "cell_type": "code",
   "execution_count": 126,
   "metadata": {},
   "outputs": [],
   "source": [
    "#Criando tabelão com todos os dados\n",
    "query='''\n",
    "SELECT    c.customerkey\n",
    "          ,c.customer\n",
    "          ,c.customer_type\n",
    "          ,c.business_family\n",
    "          ,c.business_unit\n",
    "          ,c.division\n",
    "          ,d.division_name\n",
    "          ,c.line_of_business\n",
    "          ,c.phone\n",
    "          ,c.region_code\n",
    "          ,r.region_name\n",
    "          ,c.regional_sales_mgr\n",
    "          ,c.search_type\n",
    "          ,v.datekey\n",
    "          ,v.actual_delivery_date\n",
    "          ,v.discount_amount\n",
    "          ,v.invoice_date\n",
    "          ,v.invoice_number\n",
    "          ,v.item_class\n",
    "          ,v.item_number\n",
    "          ,v.item\n",
    "          ,v.line_number\n",
    "          ,v.list_price\n",
    "          ,v.order_number\n",
    "          ,v.promised_delivery_date\n",
    "          ,v.sales_amount\n",
    "          ,v.sales_amount_based_on_list_price\n",
    "          ,v.sales_cost_amount\n",
    "          ,v.sales_margin_amount\n",
    "          ,v.sales_price\n",
    "          ,v.sales_quantity\n",
    "          ,v.sales_rep\n",
    "          ,v.u_m\n",
    "          ,e.address_number\n",
    "          ,e.city\n",
    "          ,e.country\n",
    "          ,e.customer_address_1\n",
    "          ,e.customer_address_2\n",
    "          ,e.customer_address_3\n",
    "          ,e.customer_address_4\n",
    "          ,e.state\n",
    "          ,e.zip_code\n",
    "          ,e.dt_foto\n",
    "FROM      tb_vendas v\n",
    "          INNER JOIN tb_clientes c ON v.customerkey == c.customerkey\n",
    "          INNER JOIN tb_regiao r ON c.region_code == r.region_code\n",
    "          INNER JOIN tb_divisao d ON c.division == d.division\n",
    "          LEFT JOIN tb_endereco e ON c.address_number == e.address_number\n",
    "'''"
   ]
  },
  {
   "cell_type": "code",
   "execution_count": 127,
   "metadata": {},
   "outputs": [],
   "source": [
    "df_stage = spark.sql(query)"
   ]
  },
  {
   "cell_type": "code",
   "execution_count": 128,
   "metadata": {},
   "outputs": [
    {
     "name": "stdout",
     "output_type": "stream",
     "text": [
      "root\n",
      " |-- customerkey: integer (nullable = true)\n",
      " |-- customer: string (nullable = true)\n",
      " |-- customer_type: string (nullable = true)\n",
      " |-- business_family: string (nullable = true)\n",
      " |-- business_unit: integer (nullable = true)\n",
      " |-- division: integer (nullable = true)\n",
      " |-- division_name: string (nullable = true)\n",
      " |-- line_of_business: string (nullable = true)\n",
      " |-- phone: string (nullable = true)\n",
      " |-- region_code: integer (nullable = true)\n",
      " |-- region_name: string (nullable = true)\n",
      " |-- regional_sales_mgr: string (nullable = true)\n",
      " |-- search_type: string (nullable = true)\n",
      " |-- datekey: timestamp (nullable = true)\n",
      " |-- actual_delivery_date: timestamp (nullable = true)\n",
      " |-- discount_amount: double (nullable = true)\n",
      " |-- invoice_date: timestamp (nullable = true)\n",
      " |-- invoice_number: integer (nullable = true)\n",
      " |-- item_class: string (nullable = false)\n",
      " |-- item_number: integer (nullable = true)\n",
      " |-- item: string (nullable = false)\n",
      " |-- line_number: integer (nullable = true)\n",
      " |-- list_price: double (nullable = true)\n",
      " |-- order_number: integer (nullable = true)\n",
      " |-- promised_delivery_date: timestamp (nullable = true)\n",
      " |-- sales_amount: double (nullable = true)\n",
      " |-- sales_amount_based_on_list_price: double (nullable = true)\n",
      " |-- sales_cost_amount: double (nullable = true)\n",
      " |-- sales_margin_amount: double (nullable = true)\n",
      " |-- sales_price: double (nullable = true)\n",
      " |-- sales_quantity: integer (nullable = true)\n",
      " |-- sales_rep: integer (nullable = true)\n",
      " |-- u_m: string (nullable = false)\n",
      " |-- address_number: integer (nullable = true)\n",
      " |-- city: string (nullable = true)\n",
      " |-- country: string (nullable = true)\n",
      " |-- customer_address_1: string (nullable = true)\n",
      " |-- customer_address_2: string (nullable = true)\n",
      " |-- customer_address_3: string (nullable = true)\n",
      " |-- customer_address_4: string (nullable = true)\n",
      " |-- state: string (nullable = true)\n",
      " |-- zip_code: string (nullable = true)\n",
      " |-- dt_foto: string (nullable = true)\n",
      "\n"
     ]
    }
   ],
   "source": [
    "df_stage.printSchema()"
   ]
  },
  {
   "cell_type": "code",
   "execution_count": 129,
   "metadata": {},
   "outputs": [],
   "source": [
    "df_stage = (df_stage\n",
    "            .withColumn('Ano', year(df_stage.invoice_date))\n",
    "            .withColumn('Mes', month(df_stage.invoice_date))\n",
    "            .withColumn('Dia', dayofmonth(df_stage.invoice_date))\n",
    "            .withColumn('Trimestre', quarter(df_stage.invoice_date))\n",
    "           )\n",
    "\n",
    "df_stage = df_stage.select([when(col(c)==\"\",None).otherwise(col(c)).alias(c) for c in df_stage.columns])\n",
    "df_stage = df_stage.na.fill(\"N/I\")"
   ]
  },
  {
   "cell_type": "code",
   "execution_count": 130,
   "metadata": {},
   "outputs": [
    {
     "name": "stdout",
     "output_type": "stream",
     "text": [
      "root\n",
      " |-- customerkey: integer (nullable = true)\n",
      " |-- customer: string (nullable = false)\n",
      " |-- customer_type: string (nullable = false)\n",
      " |-- business_family: string (nullable = false)\n",
      " |-- business_unit: integer (nullable = true)\n",
      " |-- division: integer (nullable = true)\n",
      " |-- division_name: string (nullable = false)\n",
      " |-- line_of_business: string (nullable = false)\n",
      " |-- phone: string (nullable = false)\n",
      " |-- region_code: integer (nullable = true)\n",
      " |-- region_name: string (nullable = false)\n",
      " |-- regional_sales_mgr: string (nullable = false)\n",
      " |-- search_type: string (nullable = false)\n",
      " |-- datekey: timestamp (nullable = true)\n",
      " |-- actual_delivery_date: timestamp (nullable = true)\n",
      " |-- discount_amount: double (nullable = true)\n",
      " |-- invoice_date: timestamp (nullable = true)\n",
      " |-- invoice_number: integer (nullable = true)\n",
      " |-- item_class: string (nullable = false)\n",
      " |-- item_number: integer (nullable = true)\n",
      " |-- item: string (nullable = false)\n",
      " |-- line_number: integer (nullable = true)\n",
      " |-- list_price: double (nullable = true)\n",
      " |-- order_number: integer (nullable = true)\n",
      " |-- promised_delivery_date: timestamp (nullable = true)\n",
      " |-- sales_amount: double (nullable = true)\n",
      " |-- sales_amount_based_on_list_price: double (nullable = true)\n",
      " |-- sales_cost_amount: double (nullable = true)\n",
      " |-- sales_margin_amount: double (nullable = true)\n",
      " |-- sales_price: double (nullable = true)\n",
      " |-- sales_quantity: integer (nullable = true)\n",
      " |-- sales_rep: integer (nullable = true)\n",
      " |-- u_m: string (nullable = false)\n",
      " |-- address_number: integer (nullable = true)\n",
      " |-- city: string (nullable = false)\n",
      " |-- country: string (nullable = false)\n",
      " |-- customer_address_1: string (nullable = false)\n",
      " |-- customer_address_2: string (nullable = false)\n",
      " |-- customer_address_3: string (nullable = false)\n",
      " |-- customer_address_4: string (nullable = false)\n",
      " |-- state: string (nullable = false)\n",
      " |-- zip_code: string (nullable = false)\n",
      " |-- dt_foto: string (nullable = false)\n",
      " |-- Ano: integer (nullable = true)\n",
      " |-- Mes: integer (nullable = true)\n",
      " |-- Dia: integer (nullable = true)\n",
      " |-- Trimestre: integer (nullable = true)\n",
      "\n"
     ]
    }
   ],
   "source": [
    "df_stage.printSchema()"
   ]
  },
  {
   "cell_type": "code",
   "execution_count": 131,
   "metadata": {},
   "outputs": [],
   "source": [
    "#Gerando keys para as DW\n",
    "\n",
    "df_stage = df_stage.withColumn('key_cliente',sha2(col(\"customerkey\").cast(StringType()),256))\n",
    "df_stage = df_stage.withColumn('key_tempo',sha2(concat_ws('|', col('invoice_date'), col('Ano'),col('Mes'),col('Dia')),256))\n",
    "df_stage = df_stage.withColumn('key_localidade',sha2(concat_ws('|', col('division'), col('region_code'),col('address_number')),256))"
   ]
  },
  {
   "cell_type": "code",
   "execution_count": 132,
   "metadata": {},
   "outputs": [],
   "source": [
    "df_stage.createOrReplaceTempView('tb_stage')"
   ]
  },
  {
   "cell_type": "code",
   "execution_count": 133,
   "metadata": {},
   "outputs": [
    {
     "name": "stdout",
     "output_type": "stream",
     "text": [
      "+-----------+-------------+-------------+---------------+-------------+--------+-------------+----------------+------------+-----------+-------------+------------------+-----------+-------------------+--------------------+---------------+-------------------+--------------+----------+-----------+--------------------+-----------+----------+------------+----------------------+------------+--------------------------------+-----------------+-------------------+-----------+--------------+---------+---+--------------+----+-------+------------------+------------------+------------------+------------------+-----+--------+-------+----+---+---+---------+--------------------+--------------------+--------------------+\n",
      "|customerkey|     customer|customer_type|business_family|business_unit|division|division_name|line_of_business|       phone|region_code|  region_name|regional_sales_mgr|search_type|            datekey|actual_delivery_date|discount_amount|       invoice_date|invoice_number|item_class|item_number|                item|line_number|list_price|order_number|promised_delivery_date|sales_amount|sales_amount_based_on_list_price|sales_cost_amount|sales_margin_amount|sales_price|sales_quantity|sales_rep|u_m|address_number|city|country|customer_address_1|customer_address_2|customer_address_3|customer_address_4|state|zip_code|dt_foto| Ano|Mes|Dia|Trimestre|         key_cliente|           key_tempo|      key_localidade|\n",
      "+-----------+-------------+-------------+---------------+-------------+--------+-------------+----------------+------------+-----------+-------------+------------------+-----------+-------------------+--------------------+---------------+-------------------+--------------+----------+-----------+--------------------+-----------+----------+------------+----------------------+------------+--------------------------------+-----------------+-------------------+-----------+--------------+---------+---+--------------+----+-------+------------------+------------------+------------------+------------------+-----+--------+-------+----+---+---+---------+--------------------+--------------------+--------------------+\n",
      "|   10013312| Gate9th Shop|           G2|             R2|            1|       1|International|             N/I|816-455-8733|          5|International|                S9|          C|2017-02-12 00:00:00| 2018-02-12 00:00:00|            0.0|2017-02-15 00:00:00|        321775|       P01|      67550|  Discover Manicotti|      67550|       0.0|      117441|   2018-02-12 00:00:00|         0.0|                             0.0|              0.0|                0.0|        0.0|             1|      151| EA|          null| N/I|    N/I|               N/I|               N/I|               N/I|               N/I|  N/I|     N/I|    N/I|2017|  2| 15|        1|08b97a47ed0d446e6...|456e783539246c9c1...|53c5785493bc683c6...|\n",
      "|   10013312| Gate9th Shop|           G2|             R2|            1|       1|International|             N/I|816-455-8733|          5|International|                S9|          C|2017-05-31 00:00:00| 2018-05-31 00:00:00|            0.0|2017-06-02 00:00:00|        302880|       P01|      38076|Cutting Edge Foot...|      38076|       0.0|      103178|   2018-05-31 00:00:00|         0.0|                             0.0|              0.0|                0.0|        0.0|             1|      151| EA|          null| N/I|    N/I|               N/I|               N/I|               N/I|               N/I|  N/I|     N/I|    N/I|2017|  6|  2|        2|08b97a47ed0d446e6...|aef576f2bdd52d3ea...|53c5785493bc683c6...|\n",
      "|   10013312| Gate9th Shop|           G2|             R2|            1|       1|International|             N/I|816-455-8733|          5|International|                S9|          C|2017-08-14 00:00:00| 2018-08-14 00:00:00|            0.0|2017-08-16 00:00:00|        309387|       P01|      67550|  Discover Manicotti|      67550|       0.0|      106748|   2018-08-14 00:00:00|         0.0|                             0.0|              0.0|                0.0|        0.0|             1|      151| EA|          null| N/I|    N/I|               N/I|               N/I|               N/I|               N/I|  N/I|     N/I|    N/I|2017|  8| 16|        3|08b97a47ed0d446e6...|359aa4bb1d93b9fcf...|53c5785493bc683c6...|\n",
      "|   10018352|Johnson Store|           G3|             R3|            1|       1|International|             N/I|816-455-8733|          5|International|                S5|          C|2018-02-19 00:00:00| 2019-02-19 00:00:00|            0.0|2018-02-21 00:00:00|        123325|       P01|      27550|   Imagine Popsicles|      27550|       0.0|      219128|   2019-02-19 00:00:00|         0.0|                             0.0|              0.0|                0.0|        0.0|             2|      159| EA|          null| N/I|    N/I|               N/I|               N/I|               N/I|               N/I|  N/I|     N/I|    N/I|2018|  2| 21|        1|5c79ecb4db821da36...|4c31d9ec0b9aae735...|53c5785493bc683c6...|\n",
      "|   10018352|Johnson Store|           G3|             R3|            1|       1|International|             N/I|816-455-8733|          5|International|                S5|          C|2018-02-19 00:00:00| 2019-02-19 00:00:00|            0.0|2018-02-21 00:00:00|        123325|       P01|      20990|     Moms Sliced Ham|      20990|     101.0|      219128|   2019-02-19 00:00:00|         0.0|                          2020.0|              0.0|                0.0|        0.0|            20|      159| SE|          null| N/I|    N/I|               N/I|               N/I|               N/I|               N/I|  N/I|     N/I|    N/I|2018|  2| 21|        1|5c79ecb4db821da36...|4c31d9ec0b9aae735...|53c5785493bc683c6...|\n",
      "|   10018352|Johnson Store|           G3|             R3|            1|       1|International|             N/I|816-455-8733|          5|International|                S5|          C|2018-02-19 00:00:00| 2019-02-19 00:00:00|            0.0|2018-02-21 00:00:00|        123325|       P01|      62616|     Tell Tale Limes|      62616|     298.0|      219128|   2019-02-19 00:00:00|         0.0|                           894.0|              0.0|                0.0|        0.0|             3|      159| EA|          null| N/I|    N/I|               N/I|               N/I|               N/I|               N/I|  N/I|     N/I|    N/I|2018|  2| 21|        1|5c79ecb4db821da36...|4c31d9ec0b9aae735...|53c5785493bc683c6...|\n",
      "|   10018352|Johnson Store|           G3|             R3|            1|       1|International|             N/I|816-455-8733|          5|International|                S5|          C|2018-02-19 00:00:00| 2019-02-19 00:00:00|            0.0|2018-02-21 00:00:00|        123325|       P01|      63559|Gorilla String Ch...|      63559|     298.0|      219128|   2019-02-19 00:00:00|         0.0|                           894.0|              0.0|                0.0|        0.0|             3|      159| EA|          null| N/I|    N/I|               N/I|               N/I|               N/I|               N/I|  N/I|     N/I|    N/I|2018|  2| 21|        1|5c79ecb4db821da36...|4c31d9ec0b9aae735...|53c5785493bc683c6...|\n",
      "|   10018352|Johnson Store|           G3|             R3|            1|       1|International|             N/I|816-455-8733|          5|International|                S5|          C|2017-05-29 00:00:00| 2018-05-29 00:00:00|            0.0|2017-05-31 00:00:00|        302538|       P01|      39185|Nationeel Grape F...|      39185|       0.0|      101153|   2018-05-29 00:00:00|         0.0|                             0.0|              0.0|                0.0|        0.0|             1|      127| EA|          null| N/I|    N/I|               N/I|               N/I|               N/I|               N/I|  N/I|     N/I|    N/I|2017|  5| 31|        2|5c79ecb4db821da36...|c7b8b2dc4ba8ff15b...|53c5785493bc683c6...|\n",
      "|   10018352|Johnson Store|           G3|             R3|            1|       1|International|             N/I|816-455-8733|          5|International|                S5|          C|2017-06-13 00:00:00| 2018-06-12 00:00:00|            0.0|2017-06-15 00:00:00|        303939|       P01|      39185|Nationeel Grape F...|      39185|       0.0|      101153|   2018-06-12 00:00:00|         0.0|                             0.0|              0.0|                0.0|        0.0|             6|      127| EA|          null| N/I|    N/I|               N/I|               N/I|               N/I|               N/I|  N/I|     N/I|    N/I|2017|  6| 15|        2|5c79ecb4db821da36...|dae39251402496152...|53c5785493bc683c6...|\n",
      "|   10018352|Johnson Store|           G3|             R3|            1|       1|International|             N/I|816-455-8733|          5|International|                S5|          C|2017-06-19 00:00:00| 2018-06-19 00:00:00|            0.0|2017-06-21 00:00:00|        304471|       P01|      39185|Nationeel Grape F...|      39185|       0.0|      101153|   2018-06-19 00:00:00|         0.0|                             0.0|              0.0|                0.0|        0.0|            10|      127| EA|          null| N/I|    N/I|               N/I|               N/I|               N/I|               N/I|  N/I|     N/I|    N/I|2017|  6| 21|        2|5c79ecb4db821da36...|c878db62a0729363a...|53c5785493bc683c6...|\n",
      "|   10018352|Johnson Store|           G3|             R3|            1|       1|International|             N/I|816-455-8733|          5|International|                S5|          C|2018-08-19 00:00:00| 2019-08-19 00:00:00|            0.0|2018-08-21 00:00:00|        110971|       P01|      27550|   Imagine Popsicles|      27550|       0.0|      208667|   2019-08-19 00:00:00|         0.0|                             0.0|              0.0|                0.0|        0.0|             2|      159| EA|          null| N/I|    N/I|               N/I|               N/I|               N/I|               N/I|  N/I|     N/I|    N/I|2018|  8| 21|        3|5c79ecb4db821da36...|a78b89578cff7e903...|53c5785493bc683c6...|\n",
      "|   10018352|Johnson Store|           G3|             R3|            1|       1|International|             N/I|816-455-8733|          5|International|                S5|          C|2018-08-19 00:00:00| 2019-08-19 00:00:00|            0.0|2018-08-21 00:00:00|        110971|       P01|      20990|     Moms Sliced Ham|      20990|     101.0|      208667|   2019-08-19 00:00:00|         0.0|                          2020.0|              0.0|                0.0|        0.0|            20|      159| SE|          null| N/I|    N/I|               N/I|               N/I|               N/I|               N/I|  N/I|     N/I|    N/I|2018|  8| 21|        3|5c79ecb4db821da36...|a78b89578cff7e903...|53c5785493bc683c6...|\n",
      "|   10018352|Johnson Store|           G3|             R3|            1|       1|International|             N/I|816-455-8733|          5|International|                S5|          C|2018-08-19 00:00:00| 2019-08-19 00:00:00|            0.0|2018-08-21 00:00:00|        110971|       P01|      62616|     Tell Tale Limes|      62616|     298.0|      208667|   2019-08-19 00:00:00|         0.0|                           894.0|              0.0|                0.0|        0.0|             3|      159| EA|          null| N/I|    N/I|               N/I|               N/I|               N/I|               N/I|  N/I|     N/I|    N/I|2018|  8| 21|        3|5c79ecb4db821da36...|a78b89578cff7e903...|53c5785493bc683c6...|\n",
      "|   10018352|Johnson Store|           G3|             R3|            1|       1|International|             N/I|816-455-8733|          5|International|                S5|          C|2018-08-19 00:00:00| 2019-08-19 00:00:00|            0.0|2018-08-21 00:00:00|        110971|       P01|      63559|Gorilla String Ch...|      63559|     298.0|      208667|   2019-08-19 00:00:00|         0.0|                           894.0|              0.0|                0.0|        0.0|             3|      159| EA|          null| N/I|    N/I|               N/I|               N/I|               N/I|               N/I|  N/I|     N/I|    N/I|2018|  8| 21|        3|5c79ecb4db821da36...|a78b89578cff7e903...|53c5785493bc683c6...|\n",
      "|   10018352|Johnson Store|           G3|             R3|            1|       1|International|             N/I|816-455-8733|          5|International|                S5|          C|2018-08-27 00:00:00| 2019-08-26 00:00:00|            0.0|2018-08-29 00:00:00|        111708|       P01|      63560|Gorilla Low Fat S...|      63560|     298.0|      208667|   2019-08-26 00:00:00|         0.0|                           894.0|              0.0|                0.0|        0.0|             3|      159| EA|          null| N/I|    N/I|               N/I|               N/I|               N/I|               N/I|  N/I|     N/I|    N/I|2018|  8| 29|        3|5c79ecb4db821da36...|c5685fcc5f5cb7c1c...|53c5785493bc683c6...|\n",
      "|   10018352|Johnson Store|           G3|             R3|            1|       1|International|             N/I|816-455-8733|          5|International|                S5|          C|2019-01-05 00:00:00| 2020-01-05 00:00:00|            0.0|2019-01-07 00:00:00|        220089|       P01|      17801|Better Fancy Cann...|      17801|       0.0|      317266|   2020-01-05 00:00:00|         0.0|                             0.0|              0.0|                0.0|        0.0|             1|      127| EA|          null| N/I|    N/I|               N/I|               N/I|               N/I|               N/I|  N/I|     N/I|    N/I|2019|  1|  7|        1|5c79ecb4db821da36...|e5303a8c586756c0f...|53c5785493bc683c6...|\n",
      "|   10018352|Johnson Store|           G3|             R3|            1|       1|International|             N/I|816-455-8733|          5|International|                S5|          C|2019-01-05 00:00:00| 2020-01-05 00:00:00|            0.0|2019-01-07 00:00:00|        220087|       P01|      17801|Better Fancy Cann...|      17801|       0.0|      317251|   2020-01-05 00:00:00|         0.0|                             0.0|              0.0|                0.0|        0.0|             1|      127| EA|          null| N/I|    N/I|               N/I|               N/I|               N/I|               N/I|  N/I|     N/I|    N/I|2019|  1|  7|        1|5c79ecb4db821da36...|e5303a8c586756c0f...|53c5785493bc683c6...|\n",
      "|   10018352|Johnson Store|           G3|             R3|            1|       1|International|             N/I|816-455-8733|          5|International|                S5|          C|2019-01-26 00:00:00| 2020-01-26 00:00:00|            0.0|2019-01-28 00:00:00|        221909|       P01|      38051|     Gorilla 1% Milk|      38051|       0.0|      317266|   2020-01-26 00:00:00|         0.0|                             0.0|              0.0|                0.0|        0.0|             1|      127| EA|          null| N/I|    N/I|               N/I|               N/I|               N/I|               N/I|  N/I|     N/I|    N/I|2019|  1| 28|        1|5c79ecb4db821da36...|92dddeeb7f9e305fb...|53c5785493bc683c6...|\n",
      "|   10018352|Johnson Store|           G3|             R3|            1|       1|International|             N/I|816-455-8733|          5|International|                S5|          C|2019-02-16 00:00:00| 2020-02-16 00:00:00|            0.0|2019-02-18 00:00:00|        223677|       P01|      38061|Gorilla Blueberry...|      38061|       0.0|      317266|   2020-02-16 00:00:00|         0.0|                             0.0|              0.0|                0.0|        0.0|             1|      127| EA|          null| N/I|    N/I|               N/I|               N/I|               N/I|               N/I|  N/I|     N/I|    N/I|2019|  2| 18|        1|5c79ecb4db821da36...|5c48ab4bdaf3122bc...|53c5785493bc683c6...|\n",
      "|   10018352|Johnson Store|           G3|             R3|            1|       1|International|             N/I|816-455-8733|          5|International|                S5|          C|2019-03-08 00:00:00| 2020-03-08 00:00:00|            0.0|2019-03-11 00:00:00|        225472|       P01|      63560|Gorilla Low Fat S...|      63560|     298.0|      320854|   2020-03-08 00:00:00|         0.0|                          1192.0|              0.0|                0.0|        0.0|             4|      127| EA|          null| N/I|    N/I|               N/I|               N/I|               N/I|               N/I|  N/I|     N/I|    N/I|2019|  3| 11|        1|5c79ecb4db821da36...|73097d029dc8b5b8f...|53c5785493bc683c6...|\n",
      "+-----------+-------------+-------------+---------------+-------------+--------+-------------+----------------+------------+-----------+-------------+------------------+-----------+-------------------+--------------------+---------------+-------------------+--------------+----------+-----------+--------------------+-----------+----------+------------+----------------------+------------+--------------------------------+-----------------+-------------------+-----------+--------------+---------+---+--------------+----+-------+------------------+------------------+------------------+------------------+-----+--------+-------+----+---+---+---------+--------------------+--------------------+--------------------+\n",
      "only showing top 20 rows\n",
      "\n"
     ]
    }
   ],
   "source": [
    "df_stage.show()"
   ]
  },
  {
   "cell_type": "code",
   "execution_count": 134,
   "metadata": {},
   "outputs": [],
   "source": [
    "#DIM_CLIENTES\n",
    "dim_clientes = spark.sql('''\n",
    "    SELECT DISTINCT key_cliente\n",
    "        ,business_family\n",
    "        ,customer \n",
    "        ,customer_type \n",
    "        ,line_of_business\n",
    "        ,regional_sales_mgr\n",
    "        ,search_type\n",
    "    FROM tb_stage    \n",
    "''')"
   ]
  },
  {
   "cell_type": "code",
   "execution_count": 140,
   "metadata": {},
   "outputs": [
    {
     "name": "stdout",
     "output_type": "stream",
     "text": [
      "+--------------------+------------+----+---+---+---------+\n",
      "|           key_tempo|invoice_date| Ano|Mes|Dia|Trimestre|\n",
      "+--------------------+------------+----+---+---+---------+\n",
      "|af1d8d847c7392684...|  2017-11-15|2017| 11| 15|        4|\n",
      "|ab481df23dbaca220...|  2017-05-18|2017|  5| 18|        2|\n",
      "|1d96767689980f9be...|  2018-05-20|2018|  5| 20|        2|\n",
      "|272b0a31a575e7303...|  2018-10-07|2018| 10|  7|        4|\n",
      "|9885b50a9c653332d...|  2017-03-26|2017|  3| 26|        1|\n",
      "|5b91624741fa462cb...|  2017-08-03|2017|  8|  3|        3|\n",
      "|073cfdabd303c6404...|  2017-09-01|2017|  9|  1|        3|\n",
      "|4dbb2767bc9fd7194...|  2018-04-02|2018|  4|  2|        2|\n",
      "|d232970174946dbcb...|  2018-02-15|2018|  2| 15|        1|\n",
      "|2b1713e1d7ab07a57...|  2018-11-14|2018| 11| 14|        4|\n",
      "|0ccdf0cbae67895e8...|  2017-06-04|2017|  6|  4|        2|\n",
      "|fb01884f3c351c217...|  2018-03-26|2018|  3| 26|        1|\n",
      "|68972f41b22cc8cd9...|  2018-11-12|2018| 11| 12|        4|\n",
      "|2ad3453dbd4dc4231...|  2018-01-01|2018|  1|  1|        1|\n",
      "|c5127a86e85e9b2d5...|  2019-03-05|2019|  3|  5|        1|\n",
      "|d134329d1df45b17d...|  2017-03-08|2017|  3|  8|        1|\n",
      "|f7c378270ea2087ad...|  2017-09-27|2017|  9| 27|        3|\n",
      "|a1ddf1339a8568094...|  2018-02-27|2018|  2| 27|        1|\n",
      "|3606513640da3151e...|  2018-06-24|2018|  6| 24|        2|\n",
      "|cf49bfa73c8d3916d...|  2019-03-03|2019|  3|  3|        1|\n",
      "+--------------------+------------+----+---+---+---------+\n",
      "only showing top 20 rows\n",
      "\n"
     ]
    }
   ],
   "source": [
    "#Criando a dimensão de tempo\n",
    "dim_tempo = spark.sql('''\n",
    "    SELECT DISTINCT key_tempo\n",
    "        ,invoice_date\n",
    "        ,Ano \n",
    "        ,Mes \n",
    "        ,Dia\n",
    "        ,Trimestre\n",
    "    FROM tb_stage    \n",
    "''')\n",
    "\n",
    "dim_tempo = dim_tempo.withColumn('invoice_date',to_date('invoice_date'))"
   ]
  },
  {
   "cell_type": "code",
   "execution_count": 136,
   "metadata": {},
   "outputs": [],
   "source": [
    "#Criando a dimensão de localidade\n",
    "dim_localidade = spark.sql('''\n",
    "    SELECT DISTINCT key_localidade\n",
    "        ,division_name\n",
    "        ,region_name \n",
    "        ,country \n",
    "        ,state\n",
    "        ,city\n",
    "        ,zip_code\n",
    "    FROM tb_stage    \n",
    "''')"
   ]
  },
  {
   "cell_type": "code",
   "execution_count": 137,
   "metadata": {},
   "outputs": [],
   "source": [
    "#Criando a fato\n",
    "ft_vendas = spark.sql('''\n",
    "    SELECT DISTINCT key_cliente\n",
    "        ,key_tempo\n",
    "        ,key_localidade\n",
    "        ,count(distinct invoice_number) qty_vendas\n",
    "        ,sum(sales_quantity) quantity\n",
    "        ,sum(sales_amount) amount\n",
    "        ,sum(sales_cost_amount) cost\n",
    "        ,sum(sales_amount - sales_cost_amount) total_amount\n",
    "    FROM tb_stage    \n",
    "    GROUP BY key_cliente\n",
    "        ,key_tempo\n",
    "        ,key_localidade\n",
    "''')"
   ]
  },
  {
   "cell_type": "code",
   "execution_count": 147,
   "metadata": {},
   "outputs": [],
   "source": [
    "def criar_csv (df,name):\n",
    "    \n",
    "    df.coalesce(1).write\\\n",
    "        .format('csv')\\\n",
    "        .option('header',True)\\\n",
    "        .mode('overwrite')\\\n",
    "        .option('sep',';')\\\n",
    "        .save(\"/datalake/gold/\"+name)\n",
    "    \n",
    "    copiar = \"hdfs dfs -get /datalake/gold/\"+name+\"/*.csv /input/gold/\"+name+\".csv\"\n",
    "    \n",
    "    os.system(copiar)\n",
    "    \n",
    "criar_csv(dim_tempo,'dim_tempo')\n",
    "criar_csv(dim_localidade,'dim_localidade')\n",
    "criar_csv(dim_clientes,'dim_clientes')\n",
    "criar_csv(ft_vendas,'ft_vendas')\n"
   ]
  },
  {
   "cell_type": "code",
   "execution_count": null,
   "metadata": {},
   "outputs": [],
   "source": []
  }
 ],
 "metadata": {
  "kernelspec": {
   "display_name": "PySpark",
   "language": "python",
   "name": "pyspark"
  },
  "language_info": {
   "codemirror_mode": {
    "name": "ipython",
    "version": 3
   },
   "file_extension": ".py",
   "mimetype": "text/x-python",
   "name": "python",
   "nbconvert_exporter": "python",
   "pygments_lexer": "ipython3",
   "version": "3.6.10"
  }
 },
 "nbformat": 4,
 "nbformat_minor": 2
}
