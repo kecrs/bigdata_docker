{
 "cells": [
  {
   "cell_type": "code",
   "execution_count": 1,
   "metadata": {},
   "outputs": [],
   "source": [
    "from pyspark.sql import SparkSession, dataframe, Row\n",
    "from pyspark.sql.types import StructType, StructField\n",
    "from pyspark.sql.types import DoubleType, IntegerType, StringType, FloatType\n",
    "from pyspark.sql import HiveContext\n",
    "from pyspark.sql.functions import *\n",
    "from pyspark.sql import functions as f\n",
    "from pyspark.sql.functions import col,trim,ltrim,rtrim,when,regexp_replace,concat_ws, lit, sha2, upper\n",
    "\n",
    "import os\n",
    "import re "
   ]
  },
  {
   "cell_type": "code",
   "execution_count": 2,
   "metadata": {},
   "outputs": [],
   "source": [
    "#sessão do spark com o Hive\n",
    "#spark = SparkSession.builder.master(\"local[*]\")\\\n",
    "#    .enableHiveSupport()\\\n",
    "#    .getOrCreate()"
   ]
  },
  {
   "cell_type": "markdown",
   "metadata": {},
   "source": [
    "# CLIENTES"
   ]
  },
  {
   "cell_type": "code",
   "execution_count": 3,
   "metadata": {},
   "outputs": [],
   "source": [
    "#Iniciando o tratamento dos dados\n",
    "df_clientes = spark.sql(\"select * from desafio_curso.tbl_clientes\")"
   ]
  },
  {
   "cell_type": "code",
   "execution_count": 4,
   "metadata": {},
   "outputs": [],
   "source": [
    "#Removendo colunas desnecessárias\n",
    "df_clientes = df_clientes.drop(\"business_unit\",\"customer_type\",\"phone\",\"regional_sales_mgr\")"
   ]
  },
  {
   "cell_type": "code",
   "execution_count": 5,
   "metadata": {},
   "outputs": [],
   "source": [
    "#Convertendo os tipos de dados\n",
    "df_clientes = df_clientes.withColumn(\"address_number\",col(\"address_number\").cast(IntegerType()))\\\n",
    "        .withColumn(\"customerkey\",col(\"customerkey\").cast(IntegerType()))\\\n",
    "        .withColumn(\"division\",col(\"division\").cast(IntegerType()))\\\n",
    "        .withColumn(\"region_code\",col(\"region_code\").cast(IntegerType()))"
   ]
  },
  {
   "cell_type": "code",
   "execution_count": 6,
   "metadata": {},
   "outputs": [],
   "source": [
    "#Tratando as colunas vazias\n",
    "df_clientes = df_clientes.withColumn('line_of_business', regexp_replace('line_of_business', '^\\s+$', 'Não Informado'))"
   ]
  },
  {
   "cell_type": "code",
   "execution_count": 7,
   "metadata": {},
   "outputs": [],
   "source": [
    "df_clientes = df_clientes.select(\"address_number\"\n",
    "        ,\"business_family\"\n",
    "        ,\"customerkey\"\n",
    "        ,\"division\"\n",
    "        ,\"line_of_business\"\n",
    "        ,\"region_code\"\n",
    "        ,\"search_type\"\n",
    "        ,\"dt_foto\"\n",
    "        ,upper(col(\"customer\")).alias(\"customer\")\n",
    "    )"
   ]
  },
  {
   "cell_type": "code",
   "execution_count": 8,
   "metadata": {},
   "outputs": [],
   "source": [
    "#Removendo tuplas duplicadas\n",
    "df_clientes = df_clientes.distinct()"
   ]
  },
  {
   "cell_type": "code",
   "execution_count": 9,
   "metadata": {},
   "outputs": [
    {
     "name": "stdout",
     "output_type": "stream",
     "text": [
      "root\n",
      " |-- address_number: integer (nullable = true)\n",
      " |-- business_family: string (nullable = true)\n",
      " |-- customerkey: integer (nullable = true)\n",
      " |-- division: integer (nullable = true)\n",
      " |-- line_of_business: string (nullable = true)\n",
      " |-- region_code: integer (nullable = true)\n",
      " |-- search_type: string (nullable = true)\n",
      " |-- dt_foto: string (nullable = true)\n",
      " |-- customer: string (nullable = true)\n",
      "\n"
     ]
    }
   ],
   "source": [
    "df_clientes.printSchema()"
   ]
  },
  {
   "cell_type": "code",
   "execution_count": 10,
   "metadata": {},
   "outputs": [
    {
     "name": "stdout",
     "output_type": "stream",
     "text": [
      "+--------------+---------------+-----------+--------+----------------+-----------+-----------+--------+--------------------+\n",
      "|address_number|business_family|customerkey|division|line_of_business|region_code|search_type| dt_foto|            customer|\n",
      "+--------------+---------------+-----------+--------+----------------+-----------+-----------+--------+--------------------+\n",
      "|      10017828|             R1|   10017828|       2|   Não Informado|          1|          C|20230630|       LEE MEGASTORE|\n",
      "|      10018352|             R3|   10018352|       1|   Não Informado|          5|          C|20230630|       JOHNSON STORE|\n",
      "|      10020662|             R3|   10020662|       1|              M1|          5|          C|20230630|       NEMATRON SHOP|\n",
      "|      10001784|             R2|   10001784|       1|   Não Informado|          5|          C|20230630|         ACACIA SHOP|\n",
      "|      10018867|             R3|   10018867|       2|   Não Informado|          4|          C|20230630|    KARI SUPERMARKET|\n",
      "|      10018885|             R3|   10018885|       2|   Não Informado|          1|          C|20230630|      KAWNEER MARKET|\n",
      "|      10020672|             R3|   10020672|       1|              M1|          5|          C|20230630|            OKI SHOP|\n",
      "|      10021331|             R2|   10021331|       1|   Não Informado|          5|          C|20230630|    PALO SUPERMARKET|\n",
      "|      10023510|             R3|   10023510|       2|   Não Informado|          4|          C|20230630|           SAGE SHOP|\n",
      "|      10025511|             R3|   10025511|       2|   Não Informado|          1|          C|20230630|        UNIPLEX SHOP|\n",
      "|      10025575|             R3|   10025575|       1|   Não Informado|          0|          C|20230630|       UNITED MARKET|\n",
      "|      10027560|             R2|   10027560|       2|   Não Informado|          2|          C|20230630|          ZILOG SHOP|\n",
      "|      10013127|             R3|   10013127|       1|              M1|          5|          C|20230630|  GARBEE SUPERMARKET|\n",
      "|      10021804|             R3|   10021804|       1|   Não Informado|          5|          C|20230630|    PICKA SUPERSTORE|\n",
      "|      10025040|             R3|   10025040|       2|   Não Informado|          2|          C|20230630|        TANGENT SHOP|\n",
      "|      10025392|             R3|   10025392|       1|   Não Informado|          5|          C|20230630|ULTIMATE SUPERMARKET|\n",
      "|      10002114|             R3|   10002114|       1|   Não Informado|          5|          C|20230630|   ACCEL SUPERMARKET|\n",
      "|      10026291|             R3|   10026291|       2|   Não Informado|          4|          C|20230630|  WARSUN SUPERMARKET|\n",
      "|      10018371|             R3|   10018371|       1|              M1|          5|          C|20230630|     JOY SUPERMARKET|\n",
      "|      10024248|             R3|   10024248|       2|              M1|          1|          C|20230630|  SIFTON SUPERMARKET|\n",
      "+--------------+---------------+-----------+--------+----------------+-----------+-----------+--------+--------------------+\n",
      "only showing top 20 rows\n",
      "\n"
     ]
    }
   ],
   "source": [
    "df_clientes.show()"
   ]
  },
  {
   "cell_type": "code",
   "execution_count": 11,
   "metadata": {},
   "outputs": [],
   "source": [
    "df_clientes.createOrReplaceTempView('tb_clientes')"
   ]
  },
  {
   "cell_type": "markdown",
   "metadata": {},
   "source": [
    "# DIVISÃO"
   ]
  },
  {
   "cell_type": "code",
   "execution_count": 12,
   "metadata": {},
   "outputs": [],
   "source": [
    "df_divisao = spark.sql(\"select * from desafio_curso.tbl_divisao\")"
   ]
  },
  {
   "cell_type": "code",
   "execution_count": 13,
   "metadata": {},
   "outputs": [],
   "source": [
    "df_divisao = df_divisao.withColumn(\"division\",col(\"division\").cast(IntegerType()))"
   ]
  },
  {
   "cell_type": "code",
   "execution_count": 14,
   "metadata": {},
   "outputs": [],
   "source": [
    "df_divisao.createOrReplaceTempView('tb_divisao')"
   ]
  },
  {
   "cell_type": "markdown",
   "metadata": {},
   "source": [
    "# ENDEREÇO"
   ]
  },
  {
   "cell_type": "code",
   "execution_count": 15,
   "metadata": {},
   "outputs": [],
   "source": [
    "df_endereco = spark.sql(\"select * from desafio_curso.tbl_endereco\")"
   ]
  },
  {
   "cell_type": "code",
   "execution_count": 16,
   "metadata": {},
   "outputs": [
    {
     "name": "stdout",
     "output_type": "stream",
     "text": [
      "root\n",
      " |-- address_number: string (nullable = true)\n",
      " |-- city: string (nullable = true)\n",
      " |-- country: string (nullable = true)\n",
      " |-- customer_address_1: string (nullable = true)\n",
      " |-- customer_address_2: string (nullable = true)\n",
      " |-- customer_address_3: string (nullable = true)\n",
      " |-- customer_address_4: string (nullable = true)\n",
      " |-- state: string (nullable = true)\n",
      " |-- zip_code: string (nullable = true)\n",
      " |-- dt_foto: string (nullable = true)\n",
      "\n"
     ]
    }
   ],
   "source": [
    "df_endereco.printSchema()"
   ]
  },
  {
   "cell_type": "code",
   "execution_count": 17,
   "metadata": {},
   "outputs": [],
   "source": [
    "df_endereco = df_endereco.drop(\"customer_address_1\",\"customer_address_2\",\"customer_address_3\",\"customer_address_4\",\"zip_code\")"
   ]
  },
  {
   "cell_type": "code",
   "execution_count": 18,
   "metadata": {},
   "outputs": [],
   "source": [
    "#Convertendo os tipos de dados\n",
    "df_endereco = df_endereco.withColumn(\"address_number\",col(\"address_number\").cast(IntegerType()))"
   ]
  },
  {
   "cell_type": "code",
   "execution_count": 19,
   "metadata": {},
   "outputs": [],
   "source": [
    "#Tratando as colunas vazias\n",
    "df_endereco = df_endereco.withColumn('city', regexp_replace('city', '^\\s+$', 'Não Informado'))\n",
    "df_endereco = df_endereco.select([when(col(c)==\"\",None).otherwise(col(c)).alias(c) for c in df_endereco.columns])\n",
    "df_endereco = df_endereco.na.fill(\"Não Informado\")"
   ]
  },
  {
   "cell_type": "code",
   "execution_count": 20,
   "metadata": {},
   "outputs": [],
   "source": [
    "df_endereco.createOrReplaceTempView('tb_endereco')"
   ]
  },
  {
   "cell_type": "code",
   "execution_count": 21,
   "metadata": {},
   "outputs": [
    {
     "name": "stdout",
     "output_type": "stream",
     "text": [
      "+--------------+----------------+-------+-------------+--------+\n",
      "|address_number|            city|country|        state| dt_foto|\n",
      "+--------------+----------------+-------+-------------+--------+\n",
      "|      10000000|           Akron|     US|           OH|20230630|\n",
      "|      10000453|   Não Informado|     UK|Não Informado|20230630|\n",
      "|      10000455|Huntington Beach|     US|           CA|20230630|\n",
      "|      10000456|        Edmonton|     CA|           AB|20230630|\n",
      "|      10000458|         Saginaw|     US|           MI|20230630|\n",
      "|      10000460|  Goodlettsville|     US|           TN|20230630|\n",
      "|      10000461|    Boucherville|     CA|           QU|20230630|\n",
      "|      10000462|       Hazelwood|     US|           MO|20230630|\n",
      "|      10000466| North Highlands|     US|           CA|20230630|\n",
      "|      10000469|        Montreal|     CA|           QU|20230630|\n",
      "|      10000471|          Jeddah|     AU|Não Informado|20230630|\n",
      "|      10000472|        Van Nuys|     US|           CA|20230630|\n",
      "|      10000473|  Rancho Cordova|     US|           CA|20230630|\n",
      "|      10000474|      Des Moines|     US|           IA|20230630|\n",
      "|      10000475|       Charlotte|     US|           NC|20230630|\n",
      "|      10000478|     Little Rock|     US|           AR|20230630|\n",
      "|      10000480|         Phoenix|     US|           AZ|20230630|\n",
      "|      10000481|         Chicago|     US|           IL|20230630|\n",
      "|      10000601|       Creedmoor|     US|           NC|20230630|\n",
      "|      10002220|   Prince George|     CA|           BC|20230630|\n",
      "+--------------+----------------+-------+-------------+--------+\n",
      "only showing top 20 rows\n",
      "\n"
     ]
    }
   ],
   "source": [
    "df_endereco.show()"
   ]
  },
  {
   "cell_type": "markdown",
   "metadata": {},
   "source": [
    "# REGIÃO"
   ]
  },
  {
   "cell_type": "code",
   "execution_count": 22,
   "metadata": {},
   "outputs": [],
   "source": [
    "df_regiao = spark.sql(\"select * from desafio_curso.tbl_regiao\")"
   ]
  },
  {
   "cell_type": "code",
   "execution_count": 23,
   "metadata": {},
   "outputs": [
    {
     "name": "stdout",
     "output_type": "stream",
     "text": [
      "root\n",
      " |-- region_code: string (nullable = true)\n",
      " |-- region_name: string (nullable = true)\n",
      " |-- dt_foto: string (nullable = true)\n",
      "\n"
     ]
    }
   ],
   "source": [
    "df_regiao.printSchema()"
   ]
  },
  {
   "cell_type": "code",
   "execution_count": 24,
   "metadata": {},
   "outputs": [],
   "source": [
    "#Convertendo os tipos de dados\n",
    "df_regiao = df_regiao.withColumn(\"region_code\",col(\"region_code\").cast(IntegerType()))"
   ]
  },
  {
   "cell_type": "code",
   "execution_count": 25,
   "metadata": {},
   "outputs": [],
   "source": [
    "df_regiao.createOrReplaceTempView('tb_regiao')"
   ]
  },
  {
   "cell_type": "markdown",
   "metadata": {},
   "source": [
    "# VENDAS"
   ]
  },
  {
   "cell_type": "code",
   "execution_count": 26,
   "metadata": {},
   "outputs": [],
   "source": [
    "df_vendas = spark.sql(\"select * from desafio_curso.tbl_vendas\")"
   ]
  },
  {
   "cell_type": "code",
   "execution_count": 27,
   "metadata": {},
   "outputs": [
    {
     "name": "stdout",
     "output_type": "stream",
     "text": [
      "root\n",
      " |-- actual_delivery_date: string (nullable = true)\n",
      " |-- customerkey: string (nullable = true)\n",
      " |-- datekey: string (nullable = true)\n",
      " |-- discount_amount: string (nullable = true)\n",
      " |-- invoice_date: string (nullable = true)\n",
      " |-- invoice_number: string (nullable = true)\n",
      " |-- item_class: string (nullable = true)\n",
      " |-- item_number: string (nullable = true)\n",
      " |-- item: string (nullable = true)\n",
      " |-- line_number: string (nullable = true)\n",
      " |-- list_price: string (nullable = true)\n",
      " |-- order_number: string (nullable = true)\n",
      " |-- promised_delivery_date: string (nullable = true)\n",
      " |-- sales_amount: string (nullable = true)\n",
      " |-- sales_amount_based_on_list_price: string (nullable = true)\n",
      " |-- sales_cost_amount: string (nullable = true)\n",
      " |-- sales_margin_amount: string (nullable = true)\n",
      " |-- sales_price: string (nullable = true)\n",
      " |-- sales_quantity: string (nullable = true)\n",
      " |-- sales_rep: string (nullable = true)\n",
      " |-- u_m: string (nullable = true)\n",
      " |-- dt_foto: string (nullable = true)\n",
      "\n"
     ]
    }
   ],
   "source": [
    "df_vendas.printSchema()"
   ]
  },
  {
   "cell_type": "code",
   "execution_count": 28,
   "metadata": {},
   "outputs": [],
   "source": [
    "#Convertendo os tipos de dados\n",
    "df_vendas = df_vendas.withColumn(\"customerkey\",col(\"customerkey\").cast(IntegerType()))\\\n",
    "        .withColumn(\"discount_amount\",regexp_replace(\"discount_amount\", ',', '.').cast(DoubleType()))\\\n",
    "        .withColumn(\"invoice_number\",col(\"invoice_number\").cast(IntegerType()))\\\n",
    "        .withColumn(\"item_number\",col(\"item_number\").cast(IntegerType()))\\\n",
    "        .withColumn(\"line_number\",col(\"item_number\").cast(IntegerType()))\\\n",
    "        .withColumn(\"list_price\",regexp_replace(\"list_price\", ',', '.').cast(DoubleType()))\\\n",
    "        .withColumn(\"order_number\",col(\"order_number\").cast(IntegerType()))\\\n",
    "        .withColumn(\"sales_amount\",regexp_replace(\"sales_amount\", ',', '.').cast(DoubleType()))\\\n",
    "        .withColumn(\"sales_amount_based_on_list_price\",regexp_replace(\"sales_amount_based_on_list_price\", ',', '.').cast(DoubleType()))\\\n",
    "        .withColumn(\"sales_cost_amount\",regexp_replace(\"sales_cost_amount\", ',', '.').cast(DoubleType()))\\\n",
    "        .withColumn(\"sales_margin_amount\",regexp_replace(\"sales_margin_amount\", ',', '.').cast(DoubleType()))\\\n",
    "        .withColumn(\"sales_price\",regexp_replace(\"sales_price\", ',', '.').cast(DoubleType()))\\\n",
    "        .withColumn(\"sales_quantity\",col(\"sales_quantity\").cast(IntegerType()))\\\n",
    "        .withColumn(\"sales_rep\",col(\"sales_rep\").cast(IntegerType()))\n",
    "df_vendas = df_vendas.select('discount_amount',\n",
    "                             'invoice_number',\n",
    "                             'item_class',\n",
    "                             'item_number',\n",
    "                             'item',\n",
    "                             'line_number',\n",
    "                             'list_price',\n",
    "                             'order_number',\n",
    "                             'sales_amount',\n",
    "                             'sales_amount_based_on_list_price',\n",
    "                             'sales_cost_amount',\n",
    "                             'sales_margin_amount',\n",
    "                             'sales_price',\n",
    "                             'sales_quantity',\n",
    "                             'sales_rep',\n",
    "                             'u_m', \n",
    "                             'customerkey',\n",
    "                             'dt_foto',\n",
    "                             from_unixtime(unix_timestamp('actual_delivery_date', 'dd/MM/yyy')).alias('actual_delivery_date'),\n",
    "                             from_unixtime(unix_timestamp('invoice_date', 'dd/MM/yyy')).alias('invoice_date'),\n",
    "                             from_unixtime(unix_timestamp('promised_delivery_date', 'dd/MM/yyy')).alias('promised_delivery_date'),\n",
    "                             from_unixtime(unix_timestamp('datekey', 'dd/MM/yyy')).alias('datekey')\n",
    "                            )\n"
   ]
  },
  {
   "cell_type": "code",
   "execution_count": 29,
   "metadata": {},
   "outputs": [],
   "source": [
    "#Tratando as colunas vazias\n",
    "df_vendas = df_vendas.na.fill(value=0)\n",
    "df_vendas = df_vendas.select([when(col(c)==\"\",None).otherwise(col(c)).alias(c) for c in df_vendas.columns])\n",
    "df_vendas = df_vendas.na.fill(\"Não Informado\")\n",
    "df_vendas = df_vendas.withColumn(\"datekey\",to_timestamp(col(\"datekey\")))\n",
    "df_vendas = df_vendas.withColumn(\"promised_delivery_date\",to_timestamp(col(\"promised_delivery_date\")))\n",
    "df_vendas = df_vendas.withColumn(\"invoice_date\",to_timestamp(col(\"invoice_date\")))\n",
    "df_vendas = df_vendas.withColumn(\"actual_delivery_date\",to_timestamp(col(\"actual_delivery_date\")))"
   ]
  },
  {
   "cell_type": "code",
   "execution_count": 30,
   "metadata": {},
   "outputs": [
    {
     "name": "stdout",
     "output_type": "stream",
     "text": [
      "root\n",
      " |-- discount_amount: double (nullable = true)\n",
      " |-- invoice_number: integer (nullable = true)\n",
      " |-- item_class: string (nullable = false)\n",
      " |-- item_number: integer (nullable = true)\n",
      " |-- item: string (nullable = false)\n",
      " |-- line_number: integer (nullable = true)\n",
      " |-- list_price: double (nullable = true)\n",
      " |-- order_number: integer (nullable = true)\n",
      " |-- sales_amount: double (nullable = true)\n",
      " |-- sales_amount_based_on_list_price: double (nullable = true)\n",
      " |-- sales_cost_amount: double (nullable = true)\n",
      " |-- sales_margin_amount: double (nullable = true)\n",
      " |-- sales_price: double (nullable = true)\n",
      " |-- sales_quantity: integer (nullable = true)\n",
      " |-- sales_rep: integer (nullable = true)\n",
      " |-- u_m: string (nullable = false)\n",
      " |-- customerkey: integer (nullable = true)\n",
      " |-- dt_foto: string (nullable = false)\n",
      " |-- actual_delivery_date: timestamp (nullable = true)\n",
      " |-- invoice_date: timestamp (nullable = true)\n",
      " |-- promised_delivery_date: timestamp (nullable = true)\n",
      " |-- datekey: timestamp (nullable = true)\n",
      "\n"
     ]
    }
   ],
   "source": [
    "df_vendas.printSchema()"
   ]
  },
  {
   "cell_type": "code",
   "execution_count": 31,
   "metadata": {},
   "outputs": [],
   "source": [
    "df_vendas.createOrReplaceTempView('tb_vendas')"
   ]
  },
  {
   "cell_type": "markdown",
   "metadata": {},
   "source": [
    "# CRIANDO TABELÃO COM OS DADOS"
   ]
  },
  {
   "cell_type": "code",
   "execution_count": 32,
   "metadata": {},
   "outputs": [],
   "source": [
    "#Criando tabelão com todos os dados\n",
    "query='''\n",
    "SELECT    c.customerkey\n",
    "          ,c.customer\n",
    "          ,c.business_family\n",
    "          ,c.division\n",
    "          ,d.division_name\n",
    "          ,c.line_of_business\n",
    "          ,c.region_code\n",
    "          ,r.region_name\n",
    "          ,c.search_type\n",
    "          ,v.datekey\n",
    "          ,v.actual_delivery_date\n",
    "          ,v.discount_amount\n",
    "          ,v.invoice_date\n",
    "          ,v.invoice_number\n",
    "          ,v.item_class\n",
    "          ,v.item_number\n",
    "          ,v.item\n",
    "          ,v.line_number\n",
    "          ,v.list_price\n",
    "          ,v.order_number\n",
    "          ,v.promised_delivery_date\n",
    "          ,v.sales_amount\n",
    "          ,v.sales_amount_based_on_list_price\n",
    "          ,v.sales_cost_amount\n",
    "          ,v.sales_margin_amount\n",
    "          ,v.sales_price\n",
    "          ,v.sales_quantity\n",
    "          ,v.sales_rep\n",
    "          ,v.u_m\n",
    "          ,e.address_number\n",
    "          ,e.city\n",
    "          ,e.country\n",
    "          ,e.state\n",
    "          ,e.dt_foto\n",
    "FROM      tb_vendas v\n",
    "          INNER JOIN tb_clientes c ON v.customerkey == c.customerkey\n",
    "          INNER JOIN tb_regiao r ON c.region_code == r.region_code\n",
    "          INNER JOIN tb_divisao d ON c.division == d.division\n",
    "          LEFT JOIN tb_endereco e ON c.address_number == e.address_number\n",
    "'''"
   ]
  },
  {
   "cell_type": "code",
   "execution_count": null,
   "metadata": {},
   "outputs": [],
   "source": []
  },
  {
   "cell_type": "code",
   "execution_count": 33,
   "metadata": {},
   "outputs": [],
   "source": [
    "df_stage = spark.sql(query)"
   ]
  },
  {
   "cell_type": "code",
   "execution_count": null,
   "metadata": {},
   "outputs": [],
   "source": []
  },
  {
   "cell_type": "code",
   "execution_count": null,
   "metadata": {},
   "outputs": [],
   "source": []
  },
  {
   "cell_type": "code",
   "execution_count": 34,
   "metadata": {},
   "outputs": [],
   "source": [
    "df_stage = (df_stage\n",
    "            .withColumn('Ano', year(df_stage.invoice_date))\n",
    "            .withColumn('Mes', month(df_stage.invoice_date))\n",
    "            .withColumn('Dia', dayofmonth(df_stage.invoice_date))\n",
    "            .withColumn('Trimestre', quarter(df_stage.invoice_date))\n",
    "           )\n",
    "\n",
    "df_stage = df_stage.select([when(col(c)==\"\",None).otherwise(col(c)).alias(c) for c in df_stage.columns])\n",
    "df_stage = df_stage.na.fill(\"Não Informado\")"
   ]
  },
  {
   "cell_type": "code",
   "execution_count": 35,
   "metadata": {},
   "outputs": [
    {
     "name": "stdout",
     "output_type": "stream",
     "text": [
      "root\n",
      " |-- customerkey: integer (nullable = true)\n",
      " |-- customer: string (nullable = false)\n",
      " |-- business_family: string (nullable = false)\n",
      " |-- division: integer (nullable = true)\n",
      " |-- division_name: string (nullable = false)\n",
      " |-- line_of_business: string (nullable = false)\n",
      " |-- region_code: integer (nullable = true)\n",
      " |-- region_name: string (nullable = false)\n",
      " |-- search_type: string (nullable = false)\n",
      " |-- datekey: timestamp (nullable = true)\n",
      " |-- actual_delivery_date: timestamp (nullable = true)\n",
      " |-- discount_amount: double (nullable = true)\n",
      " |-- invoice_date: timestamp (nullable = true)\n",
      " |-- invoice_number: integer (nullable = true)\n",
      " |-- item_class: string (nullable = false)\n",
      " |-- item_number: integer (nullable = true)\n",
      " |-- item: string (nullable = false)\n",
      " |-- line_number: integer (nullable = true)\n",
      " |-- list_price: double (nullable = true)\n",
      " |-- order_number: integer (nullable = true)\n",
      " |-- promised_delivery_date: timestamp (nullable = true)\n",
      " |-- sales_amount: double (nullable = true)\n",
      " |-- sales_amount_based_on_list_price: double (nullable = true)\n",
      " |-- sales_cost_amount: double (nullable = true)\n",
      " |-- sales_margin_amount: double (nullable = true)\n",
      " |-- sales_price: double (nullable = true)\n",
      " |-- sales_quantity: integer (nullable = true)\n",
      " |-- sales_rep: integer (nullable = true)\n",
      " |-- u_m: string (nullable = false)\n",
      " |-- address_number: integer (nullable = true)\n",
      " |-- city: string (nullable = false)\n",
      " |-- country: string (nullable = false)\n",
      " |-- state: string (nullable = false)\n",
      " |-- dt_foto: string (nullable = false)\n",
      " |-- Ano: integer (nullable = true)\n",
      " |-- Mes: integer (nullable = true)\n",
      " |-- Dia: integer (nullable = true)\n",
      " |-- Trimestre: integer (nullable = true)\n",
      "\n"
     ]
    }
   ],
   "source": [
    "df_stage.printSchema()"
   ]
  },
  {
   "cell_type": "code",
   "execution_count": 36,
   "metadata": {},
   "outputs": [],
   "source": [
    "#Gerando keys para as DW\n",
    "\n",
    "df_stage = df_stage.withColumn('key_cliente',sha2(col(\"customerkey\").cast(StringType()),256))\n",
    "df_stage = df_stage.withColumn('key_tempo',sha2(concat_ws('|', col('invoice_date'), col('Ano'),col('Mes'),col('Dia')),256))\n",
    "df_stage = df_stage.withColumn('key_localidade',sha2(concat_ws('|', col('division'), col('region_code'),col('address_number')),256))"
   ]
  },
  {
   "cell_type": "code",
   "execution_count": 37,
   "metadata": {},
   "outputs": [],
   "source": [
    "df_stage.createOrReplaceTempView('tb_stage')"
   ]
  },
  {
   "cell_type": "code",
   "execution_count": null,
   "metadata": {},
   "outputs": [],
   "source": []
  },
  {
   "cell_type": "code",
   "execution_count": 39,
   "metadata": {},
   "outputs": [],
   "source": [
    "#DIM_CLIENTES\n",
    "dim_clientes = spark.sql('''\n",
    "    SELECT DISTINCT key_cliente\n",
    "        ,business_family\n",
    "        ,customer \n",
    "        ,line_of_business\n",
    "        ,search_type\n",
    "    FROM tb_stage    \n",
    "''')"
   ]
  },
  {
   "cell_type": "code",
   "execution_count": 40,
   "metadata": {},
   "outputs": [],
   "source": [
    "#Criando a dimensão de tempo\n",
    "dim_tempo = spark.sql('''\n",
    "    SELECT DISTINCT key_tempo\n",
    "        ,invoice_date\n",
    "        ,Ano \n",
    "        ,Mes \n",
    "        ,Dia\n",
    "        ,Trimestre\n",
    "    FROM tb_stage    \n",
    "''')\n",
    "\n",
    "dim_tempo = dim_tempo.withColumn('invoice_date',to_date('invoice_date'))"
   ]
  },
  {
   "cell_type": "code",
   "execution_count": 41,
   "metadata": {},
   "outputs": [],
   "source": [
    "#Criando a dimensão de localidade\n",
    "dim_localidade = spark.sql('''\n",
    "    SELECT DISTINCT key_localidade\n",
    "        ,division_name\n",
    "        ,region_name \n",
    "        ,country \n",
    "        ,state\n",
    "        ,city\n",
    "    FROM tb_stage    \n",
    "''')"
   ]
  },
  {
   "cell_type": "code",
   "execution_count": 69,
   "metadata": {},
   "outputs": [],
   "source": [
    "#Criando a fato\n",
    "ft_vendas = spark.sql('''\n",
    "    SELECT DISTINCT key_cliente\n",
    "        ,key_tempo\n",
    "        ,key_localidade\n",
    "        ,count(distinct invoice_number) qty_vendas\n",
    "        ,CAST(sum(sales_quantity) AS STRING) quantity\n",
    "        ,CAST(round(sum(sales_amount),2) AS string) amount\n",
    "        ,CAST(round(sum(sales_cost_amount),2) as string) cost\n",
    "        ,CAST(round(sum(sales_margin_amount),2) as string) total_amount\n",
    "    FROM tb_stage    \n",
    "    GROUP BY key_cliente\n",
    "        ,key_tempo\n",
    "        ,key_localidade\n",
    "''')"
   ]
  },
  {
   "cell_type": "code",
   "execution_count": 71,
   "metadata": {
    "scrolled": true
   },
   "outputs": [],
   "source": [
    "ft_vendas = ft_vendas.withColumn(\"total_amount\",regexp_replace(\"total_amount\", '\\\\.', ','))\\\n",
    "            .withColumn(\"amount\",regexp_replace(\"amount\", '\\\\.', ','))\\\n",
    "            .withColumn(\"cost\",regexp_replace(\"cost\", '\\\\.', ','))"
   ]
  },
  {
   "cell_type": "code",
   "execution_count": 72,
   "metadata": {},
   "outputs": [],
   "source": [
    "def criar_csv (df,name):\n",
    "    output = \"/input/desafio_curso/gold/\" + name\n",
    "    erase = \"hdfs dfs -rm \" + output + \"/*\"\n",
    "    \n",
    "    df.coalesce(1).write\\\n",
    "        .format('csv')\\\n",
    "        .option('header',True)\\\n",
    "        .mode('overwrite')\\\n",
    "        .option('sep',';')\\\n",
    "        .save(\"/datalake/gold/\"+name)\n",
    "    \n",
    "    copiar = \"hdfs dfs -get /datalake/gold/\"+name+\"/*.csv /input/desafio_curso/gold/\"+name+\".csv\"\n",
    "    \n",
    "    os.system(erase)\n",
    "    os.system(copiar)\n",
    "    \n",
    "criar_csv(dim_tempo,'dim_tempo')\n",
    "criar_csv(dim_localidade,'dim_localidade')\n",
    "criar_csv(dim_clientes,'dim_clientes')\n",
    "criar_csv(ft_vendas,'ft_vendas')\n"
   ]
  },
  {
   "cell_type": "code",
   "execution_count": null,
   "metadata": {},
   "outputs": [],
   "source": []
  }
 ],
 "metadata": {
  "kernelspec": {
   "display_name": "PySpark",
   "language": "python",
   "name": "pyspark"
  },
  "language_info": {
   "codemirror_mode": {
    "name": "ipython",
    "version": 3
   },
   "file_extension": ".py",
   "mimetype": "text/x-python",
   "name": "python",
   "nbconvert_exporter": "python",
   "pygments_lexer": "ipython3",
   "version": "3.6.10"
  }
 },
 "nbformat": 4,
 "nbformat_minor": 2
}
